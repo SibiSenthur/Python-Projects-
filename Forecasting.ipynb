{
  "nbformat": 4,
  "nbformat_minor": 0,
  "metadata": {
    "accelerator": "GPU",
    "colab": {
      "name": "Forecasting.ipynb",
      "provenance": [],
      "collapsed_sections": [],
      "machine_shape": "hm",
      "authorship_tag": "ABX9TyNhbEtnkl0iBdIIKfjYDRRh",
      "include_colab_link": true
    },
    "kernelspec": {
      "display_name": "Python 3",
      "name": "python3"
    },
    "language_info": {
      "name": "python"
    }
  },
  "cells": [
    {
      "cell_type": "markdown",
      "metadata": {
        "id": "view-in-github",
        "colab_type": "text"
      },
      "source": [
        "<a href=\"https://colab.research.google.com/github/SibiSenthur/Python-Projects-/blob/master/Forecasting.ipynb\" target=\"_parent\"><img src=\"https://colab.research.google.com/assets/colab-badge.svg\" alt=\"Open In Colab\"/></a>"
      ]
    },
    {
      "cell_type": "markdown",
      "metadata": {
        "id": "BFUhJyTk-ZIP"
      },
      "source": [
        "\n",
        "Importing the necessary libraries\n",
        "\n",
        "\n",
        "\n",
        "\n",
        "\n",
        "\n",
        "\n",
        "\n"
      ]
    },
    {
      "cell_type": "code",
      "metadata": {
        "id": "fA6x-Bj7ZGgi"
      },
      "source": [
        "import pandas as pd\n",
        "import numpy as np\n",
        "import matplotlib.pyplot as plt\n",
        "%matplotlib inline\n",
        "import seaborn as sns\n",
        "import warnings\n",
        "warnings.filterwarnings(\"ignore\")\n",
        "from google.colab import drive\n",
        "from statsmodels.tsa.stattools import adfuller\n",
        "from statsmodels.tsa.stattools import acf, pacf\n",
        "from statsmodels.tsa.seasonal import seasonal_decompose\n",
        "from statsmodels.tsa.arima_model import ARIMA\n",
        "from sklearn.metrics import mean_absolute_error, mean_squared_error\n",
        "from fbprophet import Prophet\n",
        "!pip install pmdarima\n",
        "from numpy import log\n",
        "import pmdarima\n",
        "from pmdarima import auto_arima"
      ],
      "execution_count": null,
      "outputs": []
    },
    {
      "cell_type": "code",
      "metadata": {
        "id": "XiAzMqCeZxcI",
        "colab": {
          "base_uri": "https://localhost:8080/"
        },
        "outputId": "fbbe566b-fac1-41c7-ab3f-8b69b2980465"
      },
      "source": [
        "drive.mount('/content/drive/')"
      ],
      "execution_count": null,
      "outputs": [
        {
          "output_type": "stream",
          "text": [
            "Drive already mounted at /content/drive/; to attempt to forcibly remount, call drive.mount(\"/content/drive/\", force_remount=True).\n"
          ],
          "name": "stdout"
        }
      ]
    },
    {
      "cell_type": "code",
      "metadata": {
        "colab": {
          "base_uri": "https://localhost:8080/",
          "height": 357
        },
        "id": "XsIOgcNdbcD2",
        "outputId": "129e6569-fc40-41bd-c104-45de52a71a13"
      },
      "source": [
        "# Importing the datafile and preparing the data; \n",
        "# I have imported the dataset into Colab Notebooks residing within my google drive.\n",
        "df = pd.read_csv('/content/drive/My Drive/Colab Notebooks/train.csv', sep = ',')\n",
        "df.shape\n",
        "df.drop(df.filter(regex=\"Unname\"),axis=1, inplace=True)\n",
        "df.head(10)"
      ],
      "execution_count": null,
      "outputs": [
        {
          "output_type": "execute_result",
          "data": {
            "text/html": [
              "<div>\n",
              "<style scoped>\n",
              "    .dataframe tbody tr th:only-of-type {\n",
              "        vertical-align: middle;\n",
              "    }\n",
              "\n",
              "    .dataframe tbody tr th {\n",
              "        vertical-align: top;\n",
              "    }\n",
              "\n",
              "    .dataframe thead th {\n",
              "        text-align: right;\n",
              "    }\n",
              "</style>\n",
              "<table border=\"1\" class=\"dataframe\">\n",
              "  <thead>\n",
              "    <tr style=\"text-align: right;\">\n",
              "      <th></th>\n",
              "      <th>Store</th>\n",
              "      <th>Dept</th>\n",
              "      <th>Date</th>\n",
              "      <th>Weekly_Sales</th>\n",
              "      <th>IsHoliday</th>\n",
              "    </tr>\n",
              "  </thead>\n",
              "  <tbody>\n",
              "    <tr>\n",
              "      <th>0</th>\n",
              "      <td>1</td>\n",
              "      <td>1</td>\n",
              "      <td>2/5/2010</td>\n",
              "      <td>24924.50</td>\n",
              "      <td>False</td>\n",
              "    </tr>\n",
              "    <tr>\n",
              "      <th>1</th>\n",
              "      <td>1</td>\n",
              "      <td>1</td>\n",
              "      <td>2/12/2010</td>\n",
              "      <td>46039.49</td>\n",
              "      <td>True</td>\n",
              "    </tr>\n",
              "    <tr>\n",
              "      <th>2</th>\n",
              "      <td>1</td>\n",
              "      <td>1</td>\n",
              "      <td>2/19/2010</td>\n",
              "      <td>41595.55</td>\n",
              "      <td>False</td>\n",
              "    </tr>\n",
              "    <tr>\n",
              "      <th>3</th>\n",
              "      <td>1</td>\n",
              "      <td>1</td>\n",
              "      <td>2/26/2010</td>\n",
              "      <td>19403.54</td>\n",
              "      <td>False</td>\n",
              "    </tr>\n",
              "    <tr>\n",
              "      <th>4</th>\n",
              "      <td>1</td>\n",
              "      <td>1</td>\n",
              "      <td>3/5/2010</td>\n",
              "      <td>21827.90</td>\n",
              "      <td>False</td>\n",
              "    </tr>\n",
              "    <tr>\n",
              "      <th>5</th>\n",
              "      <td>1</td>\n",
              "      <td>1</td>\n",
              "      <td>3/12/2010</td>\n",
              "      <td>21043.39</td>\n",
              "      <td>False</td>\n",
              "    </tr>\n",
              "    <tr>\n",
              "      <th>6</th>\n",
              "      <td>1</td>\n",
              "      <td>1</td>\n",
              "      <td>3/19/2010</td>\n",
              "      <td>22136.64</td>\n",
              "      <td>False</td>\n",
              "    </tr>\n",
              "    <tr>\n",
              "      <th>7</th>\n",
              "      <td>1</td>\n",
              "      <td>1</td>\n",
              "      <td>3/26/2010</td>\n",
              "      <td>26229.21</td>\n",
              "      <td>False</td>\n",
              "    </tr>\n",
              "    <tr>\n",
              "      <th>8</th>\n",
              "      <td>1</td>\n",
              "      <td>1</td>\n",
              "      <td>4/2/2010</td>\n",
              "      <td>57258.43</td>\n",
              "      <td>False</td>\n",
              "    </tr>\n",
              "    <tr>\n",
              "      <th>9</th>\n",
              "      <td>1</td>\n",
              "      <td>1</td>\n",
              "      <td>4/9/2010</td>\n",
              "      <td>42960.91</td>\n",
              "      <td>False</td>\n",
              "    </tr>\n",
              "  </tbody>\n",
              "</table>\n",
              "</div>"
            ],
            "text/plain": [
              "   Store  Dept       Date  Weekly_Sales  IsHoliday\n",
              "0      1     1   2/5/2010      24924.50      False\n",
              "1      1     1  2/12/2010      46039.49       True\n",
              "2      1     1  2/19/2010      41595.55      False\n",
              "3      1     1  2/26/2010      19403.54      False\n",
              "4      1     1   3/5/2010      21827.90      False\n",
              "5      1     1  3/12/2010      21043.39      False\n",
              "6      1     1  3/19/2010      22136.64      False\n",
              "7      1     1  3/26/2010      26229.21      False\n",
              "8      1     1   4/2/2010      57258.43      False\n",
              "9      1     1   4/9/2010      42960.91      False"
            ]
          },
          "metadata": {
            "tags": []
          },
          "execution_count": 60
        }
      ]
    },
    {
      "cell_type": "code",
      "metadata": {
        "colab": {
          "base_uri": "https://localhost:8080/"
        },
        "id": "KYU8cL6Tbh7u",
        "outputId": "2a5f3001-a083-4275-aa1b-df554ffb5fd0"
      },
      "source": [
        "print(\"Unique values:\\n\",df[['Store', 'Dept']].nunique(axis=0, dropna = True)) \n",
        "# There are 45 stores in our dataset"
      ],
      "execution_count": null,
      "outputs": [
        {
          "output_type": "stream",
          "text": [
            "Unique values:\n",
            " Store    45\n",
            "Dept     81\n",
            "dtype: int64\n"
          ],
          "name": "stdout"
        }
      ]
    },
    {
      "cell_type": "code",
      "metadata": {
        "colab": {
          "base_uri": "https://localhost:8080/"
        },
        "id": "duQ39Ag4bkvl",
        "outputId": "06124afe-d749-4ac8-8e8b-53760ff5fc80"
      },
      "source": [
        "df.columns"
      ],
      "execution_count": null,
      "outputs": [
        {
          "output_type": "execute_result",
          "data": {
            "text/plain": [
              "Index(['Store', 'Dept', 'Date', 'Weekly_Sales', 'IsHoliday'], dtype='object')"
            ]
          },
          "metadata": {
            "tags": []
          },
          "execution_count": 62
        }
      ]
    },
    {
      "cell_type": "code",
      "metadata": {
        "colab": {
          "base_uri": "https://localhost:8080/"
        },
        "id": "k_DqPDrccxC-",
        "outputId": "b11d5744-dd84-4118-c034-60f964d33756"
      },
      "source": [
        "print(\"Data points\", df.shape[0])\n",
        "# 421,570 datapoints with 45 stores and 81 departments;"
      ],
      "execution_count": null,
      "outputs": [
        {
          "output_type": "stream",
          "text": [
            "Data points 421570\n"
          ],
          "name": "stdout"
        }
      ]
    },
    {
      "cell_type": "code",
      "metadata": {
        "colab": {
          "base_uri": "https://localhost:8080/",
          "height": 142
        },
        "id": "cD7KWXWOcVZe",
        "outputId": "59284c91-ac5f-4542-a8aa-00c2634ef8da"
      },
      "source": [
        "# Split the data into training and testing from sales data;\n",
        "# Last three date periods as test forecast;\n",
        "sales_training = df.loc[:df.shape[0]-4]\n",
        "sales_testing = df.iloc[-3:]\n",
        "sales_testing"
      ],
      "execution_count": null,
      "outputs": [
        {
          "output_type": "execute_result",
          "data": {
            "text/html": [
              "<div>\n",
              "<style scoped>\n",
              "    .dataframe tbody tr th:only-of-type {\n",
              "        vertical-align: middle;\n",
              "    }\n",
              "\n",
              "    .dataframe tbody tr th {\n",
              "        vertical-align: top;\n",
              "    }\n",
              "\n",
              "    .dataframe thead th {\n",
              "        text-align: right;\n",
              "    }\n",
              "</style>\n",
              "<table border=\"1\" class=\"dataframe\">\n",
              "  <thead>\n",
              "    <tr style=\"text-align: right;\">\n",
              "      <th></th>\n",
              "      <th>Store</th>\n",
              "      <th>Dept</th>\n",
              "      <th>Date</th>\n",
              "      <th>Weekly_Sales</th>\n",
              "      <th>IsHoliday</th>\n",
              "    </tr>\n",
              "  </thead>\n",
              "  <tbody>\n",
              "    <tr>\n",
              "      <th>421567</th>\n",
              "      <td>45</td>\n",
              "      <td>98</td>\n",
              "      <td>10/12/2012</td>\n",
              "      <td>1061.02</td>\n",
              "      <td>False</td>\n",
              "    </tr>\n",
              "    <tr>\n",
              "      <th>421568</th>\n",
              "      <td>45</td>\n",
              "      <td>98</td>\n",
              "      <td>10/19/2012</td>\n",
              "      <td>760.01</td>\n",
              "      <td>False</td>\n",
              "    </tr>\n",
              "    <tr>\n",
              "      <th>421569</th>\n",
              "      <td>45</td>\n",
              "      <td>98</td>\n",
              "      <td>10/26/2012</td>\n",
              "      <td>1076.80</td>\n",
              "      <td>False</td>\n",
              "    </tr>\n",
              "  </tbody>\n",
              "</table>\n",
              "</div>"
            ],
            "text/plain": [
              "        Store  Dept        Date  Weekly_Sales  IsHoliday\n",
              "421567     45    98  10/12/2012       1061.02      False\n",
              "421568     45    98  10/19/2012        760.01      False\n",
              "421569     45    98  10/26/2012       1076.80      False"
            ]
          },
          "metadata": {
            "tags": []
          },
          "execution_count": 64
        }
      ]
    },
    {
      "cell_type": "code",
      "metadata": {
        "colab": {
          "base_uri": "https://localhost:8080/"
        },
        "id": "d70NxDTeQcaX",
        "outputId": "891088e8-74f7-4966-fa42-29102bbc1adc"
      },
      "source": [
        "#understanding the data types of sales data\n",
        "sales_training.dtypes"
      ],
      "execution_count": null,
      "outputs": [
        {
          "output_type": "execute_result",
          "data": {
            "text/plain": [
              "Store             int64\n",
              "Dept              int64\n",
              "Date             object\n",
              "Weekly_Sales    float64\n",
              "IsHoliday          bool\n",
              "dtype: object"
            ]
          },
          "metadata": {
            "tags": []
          },
          "execution_count": 65
        }
      ]
    },
    {
      "cell_type": "code",
      "metadata": {
        "colab": {
          "base_uri": "https://localhost:8080/"
        },
        "id": "hHaEKdd0Rlgc",
        "outputId": "9df85060-1f7d-44c3-ee95-bfb9529d4d8e"
      },
      "source": [
        "# Data Preprocessing\n",
        "sales_training['IsHoliday'] = sales_training['IsHoliday'].astype('str')\n",
        "sales_training['Holiday'] = sales_training['IsHoliday'].map({'False': 0,'True': 1}).astype('int')\n",
        "sales_training['Holiday'].value_counts()"
      ],
      "execution_count": null,
      "outputs": [
        {
          "output_type": "execute_result",
          "data": {
            "text/plain": [
              "0    391906\n",
              "1     29661\n",
              "Name: Holiday, dtype: int64"
            ]
          },
          "metadata": {
            "tags": []
          },
          "execution_count": 66
        }
      ]
    },
    {
      "cell_type": "code",
      "metadata": {
        "colab": {
          "base_uri": "https://localhost:8080/"
        },
        "id": "_qaJiMKluHx2",
        "outputId": "02ac49c8-bde4-4ba3-aca4-5b599fc9ea92"
      },
      "source": [
        "sales_training.shape #(421567, 5)\n",
        "sales_testing.shape #(3, 5)"
      ],
      "execution_count": null,
      "outputs": [
        {
          "output_type": "execute_result",
          "data": {
            "text/plain": [
              "(3, 5)"
            ]
          },
          "metadata": {
            "tags": []
          },
          "execution_count": 67
        }
      ]
    },
    {
      "cell_type": "code",
      "metadata": {
        "colab": {
          "base_uri": "https://localhost:8080/",
          "height": 290
        },
        "id": "6XXUQDfoY9bf",
        "outputId": "22a9da77-c659-4be7-91cf-a7d4525cd66e"
      },
      "source": [
        "# Pie chart of assigned leads versus un-assigned leads\n",
        "colors_list = ['lightcoral', 'yellowgreen']\n",
        "explode_list = [0.1, 0]\n",
        "labels = ['Non-holiday', 'Holiday']\n",
        "sizes = [sales_training['Holiday'].value_counts()[0], sales_training['Holiday'].value_counts()[1]]\n",
        "fig1, ax1 = plt.subplots()\n",
        "ax1.pie(sizes, labels=labels, startangle=45, autopct='%1.1f%%', colors=colors_list, explode=explode_list, shadow=True)\n",
        "plt.title('Holiday and non-holiday timestamps', y=1.12) \n",
        "ax1.axis('equal')\n",
        "plt.show()\n",
        "# From our analysis, 93% (391,906) of the sales data are recorded as holidays and 7% (29,661) of the sales are non-holidays."
      ],
      "execution_count": null,
      "outputs": [
        {
          "output_type": "display_data",
          "data": {
            "image/png": "[encoded data removed]",
            "text/plain": [
              "<Figure size 432x288 with 1 Axes>"
            ]
          },
          "metadata": {
            "tags": []
          }
        }
      ]
    },
    {
      "cell_type": "code",
      "metadata": {
        "id": "wnqaLCXCe44k"
      },
      "source": [
        "#setting up the data sources and preparing the data for uni-variate time series analysis\n",
        "sales_training = sales_training.copy()\n",
        "sales_training['Date'] = pd.to_datetime(sales_training['Date'])\n",
        "sales_training.set_index(sales_training['Date'], inplace=True)\n",
        "sales_training=sales_training.drop(columns=['Date'])\n",
        "################\n",
        "sales_testing = sales_testing.copy()"
      ],
      "execution_count": null,
      "outputs": []
    },
    {
      "cell_type": "code",
      "metadata": {
        "id": "1GMa_fsVHYrB"
      },
      "source": [
        "sales_testing['Date'] = pd.to_datetime(sales_testing['Date'])\n",
        "sales_testing.set_index(sales_testing['Date'], inplace=True)\n",
        "sales_testing=sales_testing.drop(columns=['Date'])"
      ],
      "execution_count": null,
      "outputs": []
    },
    {
      "cell_type": "code",
      "metadata": {
        "colab": {
          "base_uri": "https://localhost:8080/"
        },
        "id": "Wf0NY128X34n",
        "outputId": "d220052f-d355-4d29-eef6-3bf76f8c50e6"
      },
      "source": [
        "print (\"We have sales data starting from\",sales_training.index.min())\n",
        "print (\"End date\",sales_testing.index.max())"
      ],
      "execution_count": null,
      "outputs": [
        {
          "output_type": "stream",
          "text": [
            "We have sales data starting from 2010-02-05 00:00:00\n",
            "End date 2012-10-26 00:00:00\n"
          ],
          "name": "stdout"
        }
      ]
    },
    {
      "cell_type": "code",
      "metadata": {
        "colab": {
          "base_uri": "https://localhost:8080/"
        },
        "id": "kjmOeGBcZ12E",
        "outputId": "c4a04826-d2d0-4419-bb12-803d800dde6e"
      },
      "source": [
        "sales_testing['IsHoliday'] = sales_testing['IsHoliday'].astype('str')\n",
        "sales_testing['Holiday'] = sales_testing['IsHoliday'].map({'False': 0,'True': 1}).astype('int')\n",
        "sales_testing['Holiday'].value_counts()"
      ],
      "execution_count": null,
      "outputs": [
        {
          "output_type": "execute_result",
          "data": {
            "text/plain": [
              "0    3\n",
              "Name: Holiday, dtype: int64"
            ]
          },
          "metadata": {
            "tags": []
          },
          "execution_count": 70
        }
      ]
    },
    {
      "cell_type": "code",
      "metadata": {
        "colab": {
          "base_uri": "https://localhost:8080/",
          "height": 172
        },
        "id": "6y0b2J7sRNpA",
        "outputId": "3dd05f0f-511e-4dbe-a5f2-15db44e917f7"
      },
      "source": [
        "sales_testing # Snapshot of the test forecast"
      ],
      "execution_count": null,
      "outputs": [
        {
          "output_type": "execute_result",
          "data": {
            "text/html": [
              "<div>\n",
              "<style scoped>\n",
              "    .dataframe tbody tr th:only-of-type {\n",
              "        vertical-align: middle;\n",
              "    }\n",
              "\n",
              "    .dataframe tbody tr th {\n",
              "        vertical-align: top;\n",
              "    }\n",
              "\n",
              "    .dataframe thead th {\n",
              "        text-align: right;\n",
              "    }\n",
              "</style>\n",
              "<table border=\"1\" class=\"dataframe\">\n",
              "  <thead>\n",
              "    <tr style=\"text-align: right;\">\n",
              "      <th></th>\n",
              "      <th>Store</th>\n",
              "      <th>Dept</th>\n",
              "      <th>Weekly_Sales</th>\n",
              "      <th>IsHoliday</th>\n",
              "      <th>Holiday</th>\n",
              "    </tr>\n",
              "    <tr>\n",
              "      <th>Date</th>\n",
              "      <th></th>\n",
              "      <th></th>\n",
              "      <th></th>\n",
              "      <th></th>\n",
              "      <th></th>\n",
              "    </tr>\n",
              "  </thead>\n",
              "  <tbody>\n",
              "    <tr>\n",
              "      <th>2012-10-12</th>\n",
              "      <td>45</td>\n",
              "      <td>98</td>\n",
              "      <td>1061.02</td>\n",
              "      <td>False</td>\n",
              "      <td>0</td>\n",
              "    </tr>\n",
              "    <tr>\n",
              "      <th>2012-10-19</th>\n",
              "      <td>45</td>\n",
              "      <td>98</td>\n",
              "      <td>760.01</td>\n",
              "      <td>False</td>\n",
              "      <td>0</td>\n",
              "    </tr>\n",
              "    <tr>\n",
              "      <th>2012-10-26</th>\n",
              "      <td>45</td>\n",
              "      <td>98</td>\n",
              "      <td>1076.80</td>\n",
              "      <td>False</td>\n",
              "      <td>0</td>\n",
              "    </tr>\n",
              "  </tbody>\n",
              "</table>\n",
              "</div>"
            ],
            "text/plain": [
              "            Store  Dept  Weekly_Sales IsHoliday  Holiday\n",
              "Date                                                    \n",
              "2012-10-12     45    98       1061.02     False        0\n",
              "2012-10-19     45    98        760.01     False        0\n",
              "2012-10-26     45    98       1076.80     False        0"
            ]
          },
          "metadata": {
            "tags": []
          },
          "execution_count": 30
        }
      ]
    },
    {
      "cell_type": "code",
      "metadata": {
        "id": "MV-AQ1Glfhc5"
      },
      "source": [
        "sales_training = sales_training[['Weekly_Sales']]"
      ],
      "execution_count": null,
      "outputs": []
    },
    {
      "cell_type": "code",
      "metadata": {
        "id": "ZKjNF4oo-slF"
      },
      "source": [
        "# Understanding the missing values; what percent of missing values are contained within each column\n",
        "\n",
        "def missing_values_table(df):\n",
        "        # Total missing values\n",
        "        mis_val = df.isnull().sum()\n",
        "        \n",
        "        # Percentage of missing values\n",
        "        mis_val_percent = 100 * df.isnull().sum() / len(df)\n",
        "        \n",
        "        # Make a table with the results\n",
        "        mis_val_table = pd.concat([mis_val, mis_val_percent], axis=1)\n",
        "        \n",
        "        # Rename the columns\n",
        "        mis_val_table_ren_columns = mis_val_table.rename(\n",
        "        columns = {0 : 'Missing Values', 1 : '% of Total Values'})\n",
        "        \n",
        "        # Sort the table by percentage of missing descending\n",
        "        mis_val_table_ren_columns = mis_val_table_ren_columns[\n",
        "            mis_val_table_ren_columns.iloc[:,1] != 0].sort_values(\n",
        "        '% of Total Values', ascending=False).round(1)\n",
        "        \n",
        "        # Print some summary information\n",
        "        print (\"Your selected dataframe has \" + str(df.shape[1]) + \" columns.\\n\" \"There are \" + str(mis_val_table_ren_columns.shape[0]) +\n",
        "              \" columns that have missing values.\")\n",
        "        \n",
        "        # Return the dataframe with missing information\n",
        "        return mis_val_table_ren_columns"
      ],
      "execution_count": null,
      "outputs": []
    },
    {
      "cell_type": "code",
      "metadata": {
        "colab": {
          "base_uri": "https://localhost:8080/",
          "height": 83
        },
        "id": "DjdgJ9Su_eRK",
        "outputId": "1d4600be-6d70-468d-bc70-19812edf4076"
      },
      "source": [
        "# Missing values statistics\n",
        "missing_values = missing_values_table(df)\n",
        "missing_values.head(20)"
      ],
      "execution_count": null,
      "outputs": [
        {
          "output_type": "stream",
          "text": [
            "Your selected dataframe has 5 columns.\n",
            "There are 0 columns that have missing values.\n"
          ],
          "name": "stdout"
        },
        {
          "output_type": "execute_result",
          "data": {
            "text/html": [
              "<div>\n",
              "<style scoped>\n",
              "    .dataframe tbody tr th:only-of-type {\n",
              "        vertical-align: middle;\n",
              "    }\n",
              "\n",
              "    .dataframe tbody tr th {\n",
              "        vertical-align: top;\n",
              "    }\n",
              "\n",
              "    .dataframe thead th {\n",
              "        text-align: right;\n",
              "    }\n",
              "</style>\n",
              "<table border=\"1\" class=\"dataframe\">\n",
              "  <thead>\n",
              "    <tr style=\"text-align: right;\">\n",
              "      <th></th>\n",
              "      <th>Missing Values</th>\n",
              "      <th>% of Total Values</th>\n",
              "    </tr>\n",
              "  </thead>\n",
              "  <tbody>\n",
              "  </tbody>\n",
              "</table>\n",
              "</div>"
            ],
            "text/plain": [
              "Empty DataFrame\n",
              "Columns: [Missing Values, % of Total Values]\n",
              "Index: []"
            ]
          },
          "metadata": {
            "tags": []
          },
          "execution_count": 83
        }
      ]
    },
    {
      "cell_type": "code",
      "metadata": {
        "colab": {
          "base_uri": "https://localhost:8080/"
        },
        "id": "mxiAlkXTmsfd",
        "outputId": "0a90f844-f643-49bd-d2bd-270a9a4709eb"
      },
      "source": [
        "sales_training.dtypes"
      ],
      "execution_count": null,
      "outputs": [
        {
          "output_type": "execute_result",
          "data": {
            "text/plain": [
              "Weekly_Sales    float64\n",
              "dtype: object"
            ]
          },
          "metadata": {
            "tags": []
          },
          "execution_count": 85
        }
      ]
    },
    {
      "cell_type": "code",
      "metadata": {
        "colab": {
          "base_uri": "https://localhost:8080/",
          "height": 441
        },
        "id": "ga1-qvJSf3sR",
        "outputId": "91aa1a64-2945-4379-e941-5382662368af"
      },
      "source": [
        "#Just a plot of the weekly sales time series forecast\n",
        "plt.xlabel('Date')\n",
        "plt.ylabel('Weekly Sales')\n",
        "sales_training.Weekly_Sales.plot(figsize=(14, 7))"
      ],
      "execution_count": null,
      "outputs": [
        {
          "output_type": "execute_result",
          "data": {
            "text/plain": [
              "<matplotlib.axes._subplots.AxesSubplot at 0x7f72eacac310>"
            ]
          },
          "metadata": {
            "tags": []
          },
          "execution_count": 86
        },
        {
          "output_type": "display_data",
          "data": {
            "image/png": "[encoded data removed]",
            "text/plain": [
              "<Figure size 1008x504 with 1 Axes>"
            ]
          },
          "metadata": {
            "tags": [],
            "needs_background": "light"
          }
        }
      ]
    },
    {
      "cell_type": "code",
      "metadata": {
        "id": "V_4FVS1tPRZ1"
      },
      "source": [
        "# A formal way of testing stationarity of a dataset is using plotting the moving average or moving variance and see if the series mean and variance varies with time.\n",
        "# This approach will be handled by using the TestStationaryPlot() method below;\n",
        "\n",
        "def TestStationaryPlot(ts):\n",
        "    rol_mean = ts.rolling(window = 3, center = False).mean()\n",
        "    rol_std = ts.rolling(window = 3, center = False).std()\n",
        "    \n",
        "    plt.plot(ts, color = 'blue',label = 'Original Data')\n",
        "    plt.plot(rol_mean, color = 'red', label = 'Rolling Mean')\n",
        "    plt.plot(rol_std, color ='black', label = 'Rolling Std')\n",
        "    plt.xticks(fontsize = 10)\n",
        "    plt.yticks(fontsize = 10)\n",
        "    \n",
        "    plt.xlabel('Time in Weeks', fontsize = 10)\n",
        "    plt.ylabel('Total Sales', fontsize = 10)\n",
        "    plt.legend(loc='best', fontsize = 10)\n",
        "    plt.title('Rolling Mean & Standard Deviation', fontsize = 10)\n",
        "    plt.show(block= True)"
      ],
      "execution_count": null,
      "outputs": []
    },
    {
      "cell_type": "code",
      "metadata": {
        "colab": {
          "base_uri": "https://localhost:8080/",
          "height": 293
        },
        "id": "HFKLVzO8PpyF",
        "outputId": "76ddc16c-84f4-48f1-ef86-c38881f73f0a"
      },
      "source": [
        "TestStationaryPlot(sales_training.head(100))"
      ],
      "execution_count": null,
      "outputs": [
        {
          "output_type": "display_data",
          "data": {
            "image/png": "[encoded data removed]",
            "text/plain": [
              "<Figure size 432x288 with 1 Axes>"
            ]
          },
          "metadata": {
            "tags": [],
            "needs_background": "light"
          }
        }
      ]
    },
    {
      "cell_type": "code",
      "metadata": {
        "colab": {
          "base_uri": "https://localhost:8080/",
          "height": 293
        },
        "id": "66oUj3kFQ1eM",
        "outputId": "8a662124-26a8-4932-9b01-c28431c5b2a1"
      },
      "source": [
        "sales_first_difference = sales_training.head(100) - sales_training.head(100).shift(1)  \n",
        "TestStationaryPlot(sales_first_difference.head(100).dropna(inplace=False))"
      ],
      "execution_count": null,
      "outputs": [
        {
          "output_type": "display_data",
          "data": {
            "image/png": "[encoded data removed]",
            "text/plain": [
              "<Figure size 432x288 with 1 Axes>"
            ]
          },
          "metadata": {
            "tags": [],
            "needs_background": "light"
          }
        }
      ]
    },
    {
      "cell_type": "code",
      "metadata": {
        "colab": {
          "base_uri": "https://localhost:8080/",
          "height": 293
        },
        "id": "5BZpmZE5TSHF",
        "outputId": "9f47b0a5-76fc-4943-ddcb-694a795d6595"
      },
      "source": [
        "sales_first_difference = sales_training - sales_training.shift(12)  \n",
        "TestStationaryPlot(sales_first_difference.dropna(inplace=False))"
      ],
      "execution_count": null,
      "outputs": [
        {
          "output_type": "display_data",
          "data": {
            "image/png": "[encoded data removed]",
            "text/plain": [
              "<Figure size 432x288 with 1 Axes>"
            ]
          },
          "metadata": {
            "tags": [],
            "needs_background": "light"
          }
        }
      ]
    },
    {
      "cell_type": "code",
      "metadata": {
        "colab": {
          "base_uri": "https://localhost:8080/"
        },
        "id": "US2Uk7EYTxCx",
        "outputId": "c65fd1e5-3753-40c2-9025-ec97765865f2"
      },
      "source": [
        "import itertools\n",
        "p = d = q = range(0, 2) # Define the p, d and q parameters to take any value between 0 and 2\n",
        "pdq = list(itertools.product(p, d, q)) # Generate all different combinations of p, q and q triplets\n",
        "pdq_x_QDQs = [(x[0], x[1], x[2], 12) for x in list(itertools.product(p, d, q))] # Generate all different combinations of seasonal p, q and q triplets\n",
        "print('Examples of Seasonal ARIMA parameter combinations for Seasonal ARIMA...')\n",
        "print('SARIMAX: {} x {}'.format(pdq[1], pdq_x_QDQs[1]))\n",
        "print('SARIMAX: {} x {}'.format(pdq[2], pdq_x_QDQs[2]))\n",
        "print(pdq)\n",
        "print(pdq_x_QDQs)\n",
        "for param in pdq:\n",
        "    for seasonal_param in pdq_x_QDQs:\n",
        "        try:\n",
        "            mod = sm.tsa.statespace.SARIMAX(sales_training['Weekly_Sales'],\n",
        "                                            order=param,\n",
        "                                            seasonal_order=seasonal_param,\n",
        "                                            enforce_stationarity=False,\n",
        "                                            enforce_invertibility=False)\n",
        "            results = mod.fit()\n",
        "            print('ARIMA{}x{} - AIC:{}'.format(param, param_seasonal, results.aic))\n",
        "        except:\n",
        "            continue\n",
        "a=[]\n",
        "b=[]\n",
        "c=[]\n",
        "wf=pd.DataFrame()"
      ],
      "execution_count": null,
      "outputs": [
        {
          "output_type": "stream",
          "text": [
            "Examples of Seasonal ARIMA parameter combinations for Seasonal ARIMA...\n",
            "SARIMAX: (0, 0, 1) x (0, 0, 1, 12)\n",
            "SARIMAX: (0, 1, 0) x (0, 1, 0, 12)\n",
            "[(0, 0, 0), (0, 0, 1), (0, 1, 0), (0, 1, 1), (1, 0, 0), (1, 0, 1), (1, 1, 0), (1, 1, 1)]\n",
            "[(0, 0, 0, 12), (0, 0, 1, 12), (0, 1, 0, 12), (0, 1, 1, 12), (1, 0, 0, 12), (1, 0, 1, 12), (1, 1, 0, 12), (1, 1, 1, 12)]\n"
          ],
          "name": "stdout"
        }
      ]
    },
    {
      "cell_type": "code",
      "metadata": {
        "colab": {
          "base_uri": "https://localhost:8080/"
        },
        "id": "e2rjXAnEUnpR",
        "outputId": "363636a6-52c8-48d2-98e9-a6f66daafa9c"
      },
      "source": [
        "for param in pdq:\n",
        "    for param_seasonal in pdq_x_QDQs:\n",
        "        try:\n",
        "            mod = sm.tsa.statespace.SARIMAX(sales_training['Weekly_Sales'],\n",
        "                                            order=param,\n",
        "                                            seasonal_order=param_seasonal,\n",
        "                                            enforce_stationarity=False,\n",
        "                                            enforce_invertibility=False)\n",
        "\n",
        "            results = mod.fit()\n",
        "\n",
        "            print('ARIMA{}x{}12 - AIC:{}'.format(param, param_seasonal, results.aic))\n",
        "            a.append(param)\n",
        "            b.append(param_seasonal)\n",
        "            c.append(results.aic)\n",
        "        except:\n",
        "            continue\n",
        "wf['pdq']=a\n",
        "wf['pdq_x_QDQs']=b\n",
        "wf['aic']=c\n",
        "print(wf[wf['aic']==wf['aic'].min()])"
      ],
      "execution_count": null,
      "outputs": [
        {
          "output_type": "stream",
          "text": [
            "Empty DataFrame\n",
            "Columns: [pdq, pdq_x_QDQs, aic]\n",
            "Index: []\n"
          ],
          "name": "stdout"
        }
      ]
    },
    {
      "cell_type": "code",
      "metadata": {
        "colab": {
          "base_uri": "https://localhost:8080/"
        },
        "id": "wkjoMn9woRcJ",
        "outputId": "1ff8b46e-07d2-43ab-a2b2-1105eb4b415c"
      },
      "source": [
        "# Performing an Augmented Dickey–Fuller test:\n",
        "# Null Hypothesis (): Time series possesses a unit-root and is non-stationary\n",
        "# Alternate Hypothesis: Time series is Stationary\n",
        "# p-values is ~ 0 and test statistics is less than our critical values;\n",
        "\n",
        "print('Results of Dickey Fuller Test:')\n",
        "dftest = adfuller(sales_training['Weekly_Sales'], autolag='AIC')\n",
        "\n",
        "dfoutput = pd.Series(dftest[0:4], index=['Test Statistic','p-value','#Lags Used','Number of Observations Used'])\n",
        "for key,value in dftest[4].items():\n",
        "    dfoutput['Critical Value (%s)'%key] = value\n",
        "print(dfoutput)"
      ],
      "execution_count": null,
      "outputs": [
        {
          "output_type": "stream",
          "text": [
            "Results of Dickey Fuller Test:\n",
            "Test Statistic                    -31.988640\n",
            "p-value                             0.000000\n",
            "#Lags Used                         97.000000\n",
            "Number of Observations Used    421469.000000\n",
            "Critical Value (1%)                -3.430366\n",
            "Critical Value (5%)                -2.861547\n",
            "Critical Value (10%)               -2.566774\n",
            "dtype: float64\n"
          ],
          "name": "stdout"
        }
      ]
    },
    {
      "cell_type": "code",
      "metadata": {
        "id": "ipYYcTnxURfx"
      },
      "source": [
        "df_subset = df.loc[:200000].copy()\n",
        "df_subset['Date'] = pd.to_datetime(df_subset['Date'])\n",
        "df_subset.set_index(df_subset['Date'], inplace=True)\n",
        "df_subset=df_subset.drop(columns=['Date'])"
      ],
      "execution_count": null,
      "outputs": []
    },
    {
      "cell_type": "code",
      "metadata": {
        "id": "acB5JI__WN3t",
        "colab": {
          "base_uri": "https://localhost:8080/"
        },
        "outputId": "f780e0f5-401c-4ad7-aa67-13b5e0b66e42"
      },
      "source": [
        "df_subset = df_subset[['Weekly_Sales']]\n",
        "print(\"length of subset\", len(df_subset))\n",
        "print(\"Remaining Test Set\", len(df)-len(df_subset))"
      ],
      "execution_count": null,
      "outputs": [
        {
          "output_type": "stream",
          "text": [
            "length of subset 200001\n",
            "Remaining Test Set 221569\n"
          ],
          "name": "stdout"
        }
      ]
    },
    {
      "cell_type": "code",
      "metadata": {
        "colab": {
          "base_uri": "https://localhost:8080/",
          "height": 450
        },
        "id": "ww-GAgU46Ho9",
        "outputId": "ec6360ac-74b5-4df2-9750-db1f6b1fb1eb"
      },
      "source": [
        "df_subset"
      ],
      "execution_count": null,
      "outputs": [
        {
          "output_type": "execute_result",
          "data": {
            "text/html": [
              "<div>\n",
              "<style scoped>\n",
              "    .dataframe tbody tr th:only-of-type {\n",
              "        vertical-align: middle;\n",
              "    }\n",
              "\n",
              "    .dataframe tbody tr th {\n",
              "        vertical-align: top;\n",
              "    }\n",
              "\n",
              "    .dataframe thead th {\n",
              "        text-align: right;\n",
              "    }\n",
              "</style>\n",
              "<table border=\"1\" class=\"dataframe\">\n",
              "  <thead>\n",
              "    <tr style=\"text-align: right;\">\n",
              "      <th></th>\n",
              "      <th>Weekly_Sales</th>\n",
              "    </tr>\n",
              "    <tr>\n",
              "      <th>Date</th>\n",
              "      <th></th>\n",
              "    </tr>\n",
              "  </thead>\n",
              "  <tbody>\n",
              "    <tr>\n",
              "      <th>2010-02-05</th>\n",
              "      <td>24924.50</td>\n",
              "    </tr>\n",
              "    <tr>\n",
              "      <th>2010-02-12</th>\n",
              "      <td>46039.49</td>\n",
              "    </tr>\n",
              "    <tr>\n",
              "      <th>2010-02-19</th>\n",
              "      <td>41595.55</td>\n",
              "    </tr>\n",
              "    <tr>\n",
              "      <th>2010-02-26</th>\n",
              "      <td>19403.54</td>\n",
              "    </tr>\n",
              "    <tr>\n",
              "      <th>2010-03-05</th>\n",
              "      <td>21827.90</td>\n",
              "    </tr>\n",
              "    <tr>\n",
              "      <th>...</th>\n",
              "      <td>...</td>\n",
              "    </tr>\n",
              "    <tr>\n",
              "      <th>2011-02-25</th>\n",
              "      <td>2259.38</td>\n",
              "    </tr>\n",
              "    <tr>\n",
              "      <th>2011-03-04</th>\n",
              "      <td>2236.82</td>\n",
              "    </tr>\n",
              "    <tr>\n",
              "      <th>2011-03-11</th>\n",
              "      <td>2833.99</td>\n",
              "    </tr>\n",
              "    <tr>\n",
              "      <th>2011-03-18</th>\n",
              "      <td>2252.76</td>\n",
              "    </tr>\n",
              "    <tr>\n",
              "      <th>2011-03-25</th>\n",
              "      <td>2630.96</td>\n",
              "    </tr>\n",
              "  </tbody>\n",
              "</table>\n",
              "<p>200001 rows × 1 columns</p>\n",
              "</div>"
            ],
            "text/plain": [
              "            Weekly_Sales\n",
              "Date                    \n",
              "2010-02-05      24924.50\n",
              "2010-02-12      46039.49\n",
              "2010-02-19      41595.55\n",
              "2010-02-26      19403.54\n",
              "2010-03-05      21827.90\n",
              "...                  ...\n",
              "2011-02-25       2259.38\n",
              "2011-03-04       2236.82\n",
              "2011-03-11       2833.99\n",
              "2011-03-18       2252.76\n",
              "2011-03-25       2630.96\n",
              "\n",
              "[200001 rows x 1 columns]"
            ]
          },
          "metadata": {
            "tags": []
          },
          "execution_count": 41
        }
      ]
    },
    {
      "cell_type": "code",
      "metadata": {
        "id": "21TXZShp5vRj"
      },
      "source": [
        "df_subset_test = df.loc[200001:].copy()\n",
        "df_subset_test['Date'] = pd.to_datetime(df_subset_test['Date'])\n",
        "df_subset_test.set_index(df_subset_test['Date'], inplace=True)\n",
        "df_subset_test=df_subset_test.drop(columns=['Date'])"
      ],
      "execution_count": null,
      "outputs": []
    },
    {
      "cell_type": "code",
      "metadata": {
        "colab": {
          "base_uri": "https://localhost:8080/"
        },
        "id": "ZFudoBzggqmN",
        "outputId": "772c9bec-6470-4ac6-a80d-c93b4b2a1764"
      },
      "source": [
        "# Fitting an Auto-Arima Model to detect values of p,d,q | P,D,Q with seasonal components\n",
        "model = auto_arima(df_subset['Weekly_Sales'], seasonal=True, trace=True, error_action=\"ignore\", stepwise=True, suppress_warnings=True)\n",
        "model.fit(df_subset['Weekly_Sales'])"
      ],
      "execution_count": null,
      "outputs": [
        {
          "output_type": "stream",
          "text": [
            "Performing stepwise search to minimize aic\n",
            " ARIMA(2,1,2)(0,0,0)[0] intercept   : AIC=4135923.303, Time=71.85 sec\n",
            " ARIMA(0,1,0)(0,0,0)[0] intercept   : AIC=4174752.316, Time=3.92 sec\n",
            " ARIMA(1,1,0)(0,0,0)[0] intercept   : AIC=4151429.422, Time=8.21 sec\n",
            " ARIMA(0,1,1)(0,0,0)[0] intercept   : AIC=4140298.285, Time=12.79 sec\n",
            " ARIMA(0,1,0)(0,0,0)[0]             : AIC=4174750.316, Time=2.84 sec\n",
            " ARIMA(1,1,2)(0,0,0)[0] intercept   : AIC=4136546.097, Time=101.29 sec\n",
            " ARIMA(2,1,1)(0,0,0)[0] intercept   : AIC=4137421.760, Time=68.15 sec\n",
            " ARIMA(3,1,2)(0,0,0)[0] intercept   : AIC=4133342.395, Time=67.05 sec\n",
            " ARIMA(3,1,1)(0,0,0)[0] intercept   : AIC=4133634.173, Time=63.48 sec\n",
            " ARIMA(4,1,2)(0,0,0)[0] intercept   : AIC=4130173.572, Time=147.22 sec\n",
            " ARIMA(4,1,1)(0,0,0)[0] intercept   : AIC=4133545.504, Time=99.79 sec\n",
            " ARIMA(5,1,2)(0,0,0)[0] intercept   : AIC=4128541.335, Time=172.59 sec\n",
            " ARIMA(5,1,1)(0,0,0)[0] intercept   : AIC=4128630.646, Time=124.57 sec\n",
            " ARIMA(5,1,3)(0,0,0)[0] intercept   : AIC=4128366.159, Time=330.31 sec\n",
            " ARIMA(4,1,3)(0,0,0)[0] intercept   : AIC=4128680.530, Time=170.64 sec\n",
            " ARIMA(5,1,4)(0,0,0)[0] intercept   : AIC=4128369.320, Time=267.66 sec\n",
            " ARIMA(4,1,4)(0,0,0)[0] intercept   : AIC=4128582.390, Time=171.66 sec\n",
            " ARIMA(5,1,3)(0,0,0)[0]             : AIC=4128364.122, Time=286.04 sec\n",
            " ARIMA(4,1,3)(0,0,0)[0]             : AIC=4128678.503, Time=146.13 sec\n",
            " ARIMA(5,1,2)(0,0,0)[0]             : AIC=4128539.327, Time=141.52 sec\n",
            " ARIMA(5,1,4)(0,0,0)[0]             : AIC=4128367.314, Time=230.92 sec\n",
            " ARIMA(4,1,2)(0,0,0)[0]             : AIC=4130171.558, Time=120.28 sec\n",
            " ARIMA(4,1,4)(0,0,0)[0]             : AIC=4128580.386, Time=147.40 sec\n",
            "\n",
            "Best model:  ARIMA(5,1,3)(0,0,0)[0]          \n",
            "Total fit time: 2956.387 seconds\n"
          ],
          "name": "stdout"
        },
        {
          "output_type": "execute_result",
          "data": {
            "text/plain": [
              "ARIMA(maxiter=50, method='lbfgs', order=(5, 1, 3), out_of_sample_size=0,\n",
              "      scoring='mse', scoring_args={}, seasonal_order=(0, 0, 0, 0),\n",
              "      start_params=None, suppress_warnings=True, trend=None,\n",
              "      with_intercept=False)"
            ]
          },
          "metadata": {
            "tags": []
          },
          "execution_count": 39
        }
      ]
    },
    {
      "cell_type": "code",
      "metadata": {
        "colab": {
          "base_uri": "https://localhost:8080/"
        },
        "id": "pfto0wqy7DoZ",
        "outputId": "6119e43b-9639-4f46-bead-efde99c7476c"
      },
      "source": [
        "print(model.summary())"
      ],
      "execution_count": null,
      "outputs": [
        {
          "output_type": "stream",
          "text": [
            "                               SARIMAX Results                                \n",
            "==============================================================================\n",
            "Dep. Variable:                      y   No. Observations:               200001\n",
            "Model:               SARIMAX(5, 1, 3)   Log Likelihood            -2064173.061\n",
            "Date:                Fri, 04 Jun 2021   AIC                        4128364.122\n",
            "Time:                        02:47:24   BIC                        4128455.976\n",
            "Sample:                             0   HQIC                       4128391.156\n",
            "                             - 200001                                         \n",
            "Covariance Type:                  opg                                         \n",
            "==============================================================================\n",
            "                 coef    std err          z      P>|z|      [0.025      0.975]\n",
            "------------------------------------------------------------------------------\n",
            "ar.L1          0.4439      0.008     57.593      0.000       0.429       0.459\n",
            "ar.L2         -0.0324      0.003    -10.169      0.000      -0.039      -0.026\n",
            "ar.L3          0.0815      0.003     23.416      0.000       0.075       0.088\n",
            "ar.L4          0.2238      0.001    189.897      0.000       0.221       0.226\n",
            "ar.L5         -0.1365      0.002    -68.533      0.000      -0.140      -0.133\n",
            "ma.L1         -0.8772      0.008   -113.620      0.000      -0.892      -0.862\n",
            "ma.L2          0.1337      0.005     26.406      0.000       0.124       0.144\n",
            "ma.L3         -0.1316      0.004    -29.814      0.000      -0.140      -0.123\n",
            "sigma2      5.416e+07   6.78e-10   7.98e+16      0.000    5.42e+07    5.42e+07\n",
            "===================================================================================\n",
            "Ljung-Box (L1) (Q):                   0.00   Jarque-Bera (JB):        2877498557.84\n",
            "Prob(Q):                              1.00   Prob(JB):                         0.00\n",
            "Heteroskedasticity (H):               1.34   Skew:                             9.30\n",
            "Prob(H) (two-sided):                  0.00   Kurtosis:                       590.33\n",
            "===================================================================================\n",
            "\n",
            "Warnings:\n",
            "[1] Covariance matrix calculated using the outer product of gradients (complex-step).\n",
            "[2] Covariance matrix is singular or near-singular, with condition number 2.8e+30. Standard errors may be unstable.\n"
          ],
          "name": "stdout"
        }
      ]
    },
    {
      "cell_type": "code",
      "metadata": {
        "id": "jQanmcVHg5G6"
      },
      "source": [
        "forecast = model.predict(n_periods=len(df_subset_test))\n",
        "df_subset_test[\"Forecast_SARIMAX\"] = forecast"
      ],
      "execution_count": null,
      "outputs": []
    },
    {
      "cell_type": "code",
      "metadata": {
        "colab": {
          "base_uri": "https://localhost:8080/",
          "height": 173
        },
        "id": "FSmq3cjL7YQ4",
        "outputId": "3660c2df-c6d7-4e3e-93b6-9bd4dddaadb0"
      },
      "source": [
        "df_subset_test.head(3)"
      ],
      "execution_count": null,
      "outputs": [
        {
          "output_type": "execute_result",
          "data": {
            "text/html": [
              "<div>\n",
              "<style scoped>\n",
              "    .dataframe tbody tr th:only-of-type {\n",
              "        vertical-align: middle;\n",
              "    }\n",
              "\n",
              "    .dataframe tbody tr th {\n",
              "        vertical-align: top;\n",
              "    }\n",
              "\n",
              "    .dataframe thead th {\n",
              "        text-align: right;\n",
              "    }\n",
              "</style>\n",
              "<table border=\"1\" class=\"dataframe\">\n",
              "  <thead>\n",
              "    <tr style=\"text-align: right;\">\n",
              "      <th></th>\n",
              "      <th>Store</th>\n",
              "      <th>Dept</th>\n",
              "      <th>Weekly_Sales</th>\n",
              "      <th>IsHoliday</th>\n",
              "      <th>Forecast_SARIMAX</th>\n",
              "    </tr>\n",
              "    <tr>\n",
              "      <th>Date</th>\n",
              "      <th></th>\n",
              "      <th></th>\n",
              "      <th></th>\n",
              "      <th></th>\n",
              "      <th></th>\n",
              "    </tr>\n",
              "  </thead>\n",
              "  <tbody>\n",
              "    <tr>\n",
              "      <th>2011-04-01</th>\n",
              "      <td>21</td>\n",
              "      <td>19</td>\n",
              "      <td>2350.98</td>\n",
              "      <td>False</td>\n",
              "      <td>2475.078862</td>\n",
              "    </tr>\n",
              "    <tr>\n",
              "      <th>2011-04-08</th>\n",
              "      <td>21</td>\n",
              "      <td>19</td>\n",
              "      <td>2386.24</td>\n",
              "      <td>False</td>\n",
              "      <td>2572.951196</td>\n",
              "    </tr>\n",
              "    <tr>\n",
              "      <th>2011-04-15</th>\n",
              "      <td>21</td>\n",
              "      <td>19</td>\n",
              "      <td>1822.65</td>\n",
              "      <td>False</td>\n",
              "      <td>2397.088598</td>\n",
              "    </tr>\n",
              "  </tbody>\n",
              "</table>\n",
              "</div>"
            ],
            "text/plain": [
              "            Store  Dept  Weekly_Sales  IsHoliday  Forecast_SARIMAX\n",
              "Date                                                              \n",
              "2011-04-01     21    19       2350.98      False       2475.078862\n",
              "2011-04-08     21    19       2386.24      False       2572.951196\n",
              "2011-04-15     21    19       1822.65      False       2397.088598"
            ]
          },
          "metadata": {
            "tags": []
          },
          "execution_count": 49
        }
      ]
    },
    {
      "cell_type": "code",
      "metadata": {
        "colab": {
          "base_uri": "https://localhost:8080/",
          "height": 729
        },
        "id": "pwfszl4vkD5r",
        "outputId": "39f58bc4-3b80-4230-99c5-ad5933e44210"
      },
      "source": [
        "from statsmodels.graphics.tsaplots import plot_acf, plot_pacf\n",
        "import matplotlib.pyplot as plt\n",
        "plt.rcParams.update({'figure.figsize':(9,7), 'figure.dpi':120})\n",
        "\n",
        "fig, axes = plt.subplots(3, 2, sharex=True)\n",
        "axes[0, 0].plot(df.Weekly_Sales); axes[0, 0].set_title('Original Series')\n",
        "plot_acf(df.Weekly_Sales, ax=axes[0, 1])\n",
        "\n",
        "# 1st Differencing\n",
        "axes[1, 0].plot(df.Weekly_Sales.diff()); axes[1, 0].set_title('1st Order Differencing')\n",
        "plot_acf(df.Weekly_Sales.diff().dropna(), ax=axes[1, 1])\n",
        "\n",
        "# 2nd Differencing\n",
        "axes[2, 0].plot(df.Weekly_Sales.diff().diff()); axes[2, 0].set_title('2nd Order Differencing')\n",
        "plot_acf(df.Weekly_Sales.diff().diff().dropna(), ax=axes[2, 1])\n",
        "\n",
        "plt.show()"
      ],
      "execution_count": null,
      "outputs": [
        {
          "output_type": "display_data",
          "data": {
            "image/png": "[encoded data removed]",
            "text/plain": [
              "<Figure size 1080x840 with 6 Axes>"
            ]
          },
          "metadata": {
            "tags": []
          }
        }
      ]
    },
    {
      "cell_type": "code",
      "metadata": {
        "colab": {
          "base_uri": "https://localhost:8080/",
          "height": 367
        },
        "id": "zwlyVGq7n4U4",
        "outputId": "c06dc79c-fa9f-476c-b0e3-98fddf32aa43"
      },
      "source": [
        "# PACF plot of 1st differenced series\n",
        "plt.rcParams.update({'figure.figsize':(9,3), 'figure.dpi':120})\n",
        "\n",
        "fig, axes = plt.subplots(1, 2, sharex=True)\n",
        "axes[0].plot(df.Weekly_Sales.diff()); axes[0].set_title('1st Differencing')\n",
        "axes[1].set(ylim=(0,5))\n",
        "plot_pacf(df.Weekly_Sales.diff().dropna(), ax=axes[1])\n",
        "\n",
        "plt.show()\n",
        "\n",
        "#We can see that the PACF lag 1 is quite significant since it is well above the significance line. So, we will fix the value of p as 1."
      ],
      "execution_count": null,
      "outputs": [
        {
          "output_type": "display_data",
          "data": {
            "image/png": "[encoded data removed]",
            "text/plain": [
              "<Figure size 1080x360 with 2 Axes>"
            ]
          },
          "metadata": {
            "tags": []
          }
        }
      ]
    },
    {
      "cell_type": "code",
      "metadata": {
        "colab": {
          "base_uri": "https://localhost:8080/",
          "height": 367
        },
        "id": "9mrb9jRNoSFq",
        "outputId": "6fce8c96-f51a-4148-f588-9c7128b73690"
      },
      "source": [
        "plt.rcParams.update({'figure.figsize':(9,3), 'figure.dpi':120})\n",
        "\n",
        "fig, axes = plt.subplots(1, 2, sharex=True)\n",
        "axes[0].plot(df.Weekly_Sales.diff()); axes[0].set_title('1st Differencing')\n",
        "axes[1].set(ylim=(0,1.2))\n",
        "plot_acf(df.Weekly_Sales.diff().dropna(), ax=axes[1])\n",
        "\n",
        "plt.show()"
      ],
      "execution_count": null,
      "outputs": [
        {
          "output_type": "display_data",
          "data": {
            "image/png": "[encoded data removed]",
            "text/plain": [
              "<Figure size 1080x360 with 2 Axes>"
            ]
          },
          "metadata": {
            "tags": []
          }
        }
      ]
    },
    {
      "cell_type": "code",
      "metadata": {
        "colab": {
          "base_uri": "https://localhost:8080/"
        },
        "id": "TvKmlR1FwDdw",
        "outputId": "82973965-cbbf-4fe8-ee81-c2cde72c5b4e"
      },
      "source": [
        "sales_training['Weekly_Sales'].describe()"
      ],
      "execution_count": null,
      "outputs": [
        {
          "output_type": "execute_result",
          "data": {
            "text/plain": [
              "count    420209.000000\n",
              "mean      16033.222160\n",
              "std       22729.537596\n",
              "min           0.010000\n",
              "25%        2120.160000\n",
              "50%        7661.740000\n",
              "75%       20271.400000\n",
              "max      693099.360000\n",
              "Name: Weekly_Sales, dtype: float64"
            ]
          },
          "metadata": {
            "tags": []
          },
          "execution_count": 13
        }
      ]
    },
    {
      "cell_type": "code",
      "metadata": {
        "id": "tzaKW0MXxXRl"
      },
      "source": [
        "sales_training = sales_training[sales_training != 0]"
      ],
      "execution_count": null,
      "outputs": []
    },
    {
      "cell_type": "code",
      "metadata": {
        "colab": {
          "base_uri": "https://localhost:8080/"
        },
        "id": "QmGzeMJy1M9W",
        "outputId": "2cd23c8c-5a3c-4003-b164-541b6ad6bc4c"
      },
      "source": [
        "sales_training.Weekly_Sales"
      ],
      "execution_count": null,
      "outputs": [
        {
          "output_type": "execute_result",
          "data": {
            "text/plain": [
              "Date\n",
              "2010-02-05    24924.50\n",
              "2010-02-12    46039.49\n",
              "2010-02-19    41595.55\n",
              "2010-02-26    19403.54\n",
              "2010-03-05    21827.90\n",
              "                ...   \n",
              "2012-09-07      352.44\n",
              "2012-09-14      605.96\n",
              "2012-09-21      467.30\n",
              "2012-09-28      508.37\n",
              "2012-10-05      628.10\n",
              "Name: Weekly_Sales, Length: 421567, dtype: float64"
            ]
          },
          "metadata": {
            "tags": []
          },
          "execution_count": 19
        }
      ]
    },
    {
      "cell_type": "code",
      "metadata": {
        "colab": {
          "base_uri": "https://localhost:8080/"
        },
        "id": "AglE_-QQ0six",
        "outputId": "7aea4b1c-a9a2-49ef-9923-379ae3749a53"
      },
      "source": [
        "model = auto_arima(sales_training.Weekly_Sales, start_p=1, start_q=1,\n",
        "                      test='adf',       # use adftest to find optimal 'd'\n",
        "                      max_p=3, max_q=3, # maximum p and q\n",
        "                      m=1,              # frequency of series\n",
        "                      d=None,           # let model determine 'd'\n",
        "                      seasonal=False,   # No Seasonality\n",
        "                      start_P=0, \n",
        "                      D=0, \n",
        "                      trace=True,\n",
        "                      error_action='ignore',  \n",
        "                      suppress_warnings=True, \n",
        "                      stepwise=True)"
      ],
      "execution_count": null,
      "outputs": [
        {
          "output_type": "stream",
          "text": [
            "Performing stepwise search to minimize aic\n",
            " ARIMA(1,0,1)(0,0,0)[0]             : AIC=8638901.285, Time=25.47 sec\n",
            " ARIMA(0,0,0)(0,0,0)[0]             : AIC=9823077.537, Time=3.94 sec\n",
            " ARIMA(1,0,0)(0,0,0)[0]             : AIC=8714130.878, Time=4.70 sec\n",
            " ARIMA(0,0,1)(0,0,0)[0]             : AIC=9433454.272, Time=35.17 sec\n",
            " ARIMA(2,0,1)(0,0,0)[0]             : AIC=8635382.540, Time=46.46 sec\n",
            " ARIMA(2,0,0)(0,0,0)[0]             : AIC=8663806.714, Time=5.95 sec\n",
            " ARIMA(3,0,1)(0,0,0)[0]             : AIC=8635138.650, Time=77.63 sec\n",
            " ARIMA(3,0,0)(0,0,0)[0]             : AIC=8648760.548, Time=7.62 sec\n",
            " ARIMA(3,0,2)(0,0,0)[0]             : AIC=8633270.001, Time=107.16 sec\n",
            " ARIMA(2,0,2)(0,0,0)[0]             : AIC=8637827.929, Time=123.52 sec\n",
            " ARIMA(3,0,3)(0,0,0)[0]             : AIC=8624581.104, Time=163.00 sec\n",
            " ARIMA(2,0,3)(0,0,0)[0]             : AIC=8628448.570, Time=93.81 sec\n",
            " ARIMA(3,0,3)(0,0,0)[0] intercept   : AIC=8623918.418, Time=302.03 sec\n",
            " ARIMA(2,0,3)(0,0,0)[0] intercept   : AIC=8628104.780, Time=187.06 sec\n",
            " ARIMA(3,0,2)(0,0,0)[0] intercept   : AIC=8633089.493, Time=131.17 sec\n",
            " ARIMA(2,0,2)(0,0,0)[0] intercept   : AIC=8636962.062, Time=287.22 sec\n",
            "\n",
            "Best model:  ARIMA(3,0,3)(0,0,0)[0] intercept\n",
            "Total fit time: 1605.783 seconds\n"
          ],
          "name": "stdout"
        }
      ]
    },
    {
      "cell_type": "code",
      "metadata": {
        "colab": {
          "base_uri": "https://localhost:8080/"
        },
        "id": "0uOy369ixq5j",
        "outputId": "4f2aac8c-6766-47fc-c30c-b2d5b0ccaa2b"
      },
      "source": [
        "print(model.summary())"
      ],
      "execution_count": null,
      "outputs": [
        {
          "output_type": "stream",
          "text": [
            "                               SARIMAX Results                                \n",
            "==============================================================================\n",
            "Dep. Variable:                      y   No. Observations:               421567\n",
            "Model:               SARIMAX(3, 0, 3)   Log Likelihood            -4311951.209\n",
            "Date:                Fri, 04 Jun 2021   AIC                        8623918.418\n",
            "Time:                        00:11:50   BIC                        8624006.032\n",
            "Sample:                             0   HQIC                       8623943.397\n",
            "                             - 421567                                         \n",
            "Covariance Type:                  opg                                         \n",
            "==============================================================================\n",
            "                 coef    std err          z      P>|z|      [0.025      0.975]\n",
            "------------------------------------------------------------------------------\n",
            "intercept    344.6959     19.763     17.441      0.000     305.960     383.431\n",
            "ar.L1          0.0098      0.001      7.604      0.000       0.007       0.012\n",
            "ar.L2          0.5411      0.001    530.199      0.000       0.539       0.543\n",
            "ar.L3          0.4271      0.002    265.754      0.000       0.424       0.430\n",
            "ma.L1          0.5458      0.001    426.091      0.000       0.543       0.548\n",
            "ma.L2         -0.0885      0.001    -67.877      0.000      -0.091      -0.086\n",
            "ma.L3         -0.3808      0.001   -576.435      0.000      -0.382      -0.380\n",
            "sigma2      4.499e+07      0.019    2.4e+09      0.000     4.5e+07     4.5e+07\n",
            "===================================================================================\n",
            "Ljung-Box (L1) (Q):                  20.27   Jarque-Bera (JB):       12131351062.40\n",
            "Prob(Q):                              0.00   Prob(JB):                         0.00\n",
            "Heteroskedasticity (H):               0.51   Skew:                            11.61\n",
            "Prob(H) (two-sided):                  0.00   Kurtosis:                       833.73\n",
            "===================================================================================\n",
            "\n",
            "Warnings:\n",
            "[1] Covariance matrix calculated using the outer product of gradients (complex-step).\n",
            "[2] Covariance matrix is singular or near-singular, with condition number 1.7e+22. Standard errors may be unstable.\n"
          ],
          "name": "stdout"
        }
      ]
    },
    {
      "cell_type": "markdown",
      "metadata": {
        "id": "Z45ki5xUGgOD"
      },
      "source": [
        "\n",
        "---\n",
        "** The coefficient column shows the weight (i.e importance) of each featue and \n",
        "how each one impacts the final forecast. \n",
        "The P>|Z| column informs us of the significance of each feature weight. \n",
        "Each weight has a p-value close to 0, so we can include the features in our model**\n"
      ]
    },
    {
      "cell_type": "code",
      "metadata": {
        "id": "zA4xmbgKX2SI"
      },
      "source": [
        "sales_testing=sales_testing[['Weekly_Sales']]\n",
        "model.fit(sales_training.Weekly_Sales)\n",
        "forecast = model.predict(n_periods=len(sales_testing))\n",
        "sales_testing[\"Forecast_ARIMAX\"] = forecast"
      ],
      "execution_count": null,
      "outputs": []
    },
    {
      "cell_type": "code",
      "metadata": {
        "colab": {
          "base_uri": "https://localhost:8080/"
        },
        "id": "0kJS7TkzZpv3",
        "outputId": "af95d270-9a0b-48a7-c3c2-595db373f468"
      },
      "source": [
        "print(sales_testing)"
      ],
      "execution_count": null,
      "outputs": [
        {
          "output_type": "stream",
          "text": [
            "            Weekly_Sales  Forecast_ARIMAX\n",
            "Date                                     \n",
            "2012-10-12       1061.02       918.591999\n",
            "2012-10-19        760.01      1031.313531\n",
            "2012-10-26       1076.80      1174.828432\n"
          ],
          "name": "stdout"
        }
      ]
    },
    {
      "cell_type": "code",
      "metadata": {
        "id": "BU51spqFZwH2"
      },
      "source": [
        "# Evaluating the Accuracy Metrics - Mape, Me, Mae - Mean Absolute Error #\n",
        "def forecast_accuracy(forecast, actual):\n",
        "\n",
        "    mape = np.mean(np.abs(forecast - actual)/np.abs(actual))  # Mean absolute percentage error\n",
        "    me = np.mean(forecast - actual)             # Mean Error\n",
        "    mae = np.mean(np.abs(forecast - actual))    # Mean Absolute Error\n",
        "    mpe = np.mean((forecast - actual)/actual)   # Mean Percentage Error\n",
        "    rmse = np.mean((forecast - actual)**2)**.5  # Root Mean Squared Error\n",
        "    corr = np.corrcoef(forecast, actual)[0,1]   # Correlation between Actual and Forecast\n",
        "    mins = np.amin(np.hstack([forecast[:,None], \n",
        "                              actual[:,None]]), axis=1)\n",
        "    maxs = np.amax(np.hstack([forecast[:,None], \n",
        "                              actual[:,None]]), axis=1)\n",
        "    minmax = 1 - np.mean(mins/maxs)             # minmax\n",
        "    acf1 = acf(forecast-actual)[1]    # ACF1\n",
        "    return({'mape':mape, 'me':me, 'mae': mae, \n",
        "            'mpe': mpe, 'rmse':rmse, 'acf1':acf1, \n",
        "            'corr':corr, 'minmax':minmax})"
      ],
      "execution_count": null,
      "outputs": []
    },
    {
      "cell_type": "code",
      "metadata": {
        "colab": {
          "base_uri": "https://localhost:8080/"
        },
        "id": "uwUAbVL6Zx4O",
        "outputId": "bbeb53e0-c0c9-45e7-fff2-ba6f439425b3"
      },
      "source": [
        "print(\"Printing Different forecast Metrics\\n\\n\",forecast_accuracy(sales_testing.Forecast_ARIMAX, sales_testing.Weekly_Sales))"
      ],
      "execution_count": null,
      "outputs": [
        {
          "output_type": "stream",
          "text": [
            "Printing Different foreast Metrics\n",
            "\n",
            " {'mape': 0.19408243539015538, 'me': 75.63465418862408, 'mae': 170.58665470674964, 'mpe': 0.1045911906274501, 'rmse': 185.74257723240405, 'acf1': -0.4434410833510887, 'corr': 0.11324061093117725, 'minmax': 0.16024783641709017}\n"
          ],
          "name": "stdout"
        }
      ]
    },
    {
      "cell_type": "code",
      "metadata": {
        "id": "h3NHj4FfTA3n"
      },
      "source": [
        "sales_training = sales_training[['Weekly_Sales','Holiday']]"
      ],
      "execution_count": null,
      "outputs": []
    },
    {
      "cell_type": "code",
      "metadata": {
        "colab": {
          "base_uri": "https://localhost:8080/"
        },
        "id": "6YfyASpis_mX",
        "outputId": "0c535e61-bd3b-42ea-a5fa-10cc501ce0e6"
      },
      "source": [
        "## Fitting an Arima model with Exogenous variables;\n",
        "\n",
        "from statsmodels.tsa.arima_model import ARIMA\n",
        "model = auto_arima(sales_training[['Weekly_Sales']], exogenous=sales_training[['Holiday']], start_p=1, start_q=1,\n",
        "                      test='adf',       # use adftest to find optimal 'd'\n",
        "                      max_p=3, max_q=3, # maximum p and q\n",
        "                      m=1,              # frequency of series\n",
        "                      d=None,           # let model determine 'd'\n",
        "                      seasonal=False,   # No Seasonality\n",
        "                      start_P=0, \n",
        "                      D=0, \n",
        "                      trace=True,\n",
        "                      error_action='ignore',  \n",
        "                      suppress_warnings=True, \n",
        "                      stepwise=True)"
      ],
      "execution_count": null,
      "outputs": [
        {
          "output_type": "stream",
          "text": [
            "Performing stepwise search to minimize aic\n",
            " ARIMA(1,0,1)(0,0,0)[0]             : AIC=8808718.267, Time=75.32 sec\n",
            " ARIMA(0,0,0)(0,0,0)[0]             : AIC=14850224.714, Time=7.46 sec\n",
            " ARIMA(1,0,0)(0,0,0)[0]             : AIC=8714078.221, Time=175.26 sec\n",
            " ARIMA(0,0,1)(0,0,0)[0]             : AIC=9469846.592, Time=103.33 sec\n",
            " ARIMA(2,0,0)(0,0,0)[0]             : AIC=8851707.051, Time=19.31 sec\n",
            " ARIMA(2,0,1)(0,0,0)[0]             : AIC=8807958.809, Time=110.91 sec\n",
            " ARIMA(1,0,0)(0,0,0)[0] intercept   : AIC=8710407.324, Time=145.83 sec\n",
            " ARIMA(0,0,0)(0,0,0)[0] intercept   : AIC=9666751.436, Time=8.96 sec\n",
            " ARIMA(2,0,0)(0,0,0)[0] intercept   : AIC=8849312.434, Time=22.95 sec\n",
            " ARIMA(1,0,1)(0,0,0)[0] intercept   : AIC=8813832.079, Time=67.22 sec\n",
            " ARIMA(0,0,1)(0,0,0)[0] intercept   : AIC=9357973.470, Time=132.85 sec\n",
            " ARIMA(2,0,1)(0,0,0)[0] intercept   : AIC=8813762.990, Time=87.80 sec\n",
            "\n",
            "Best model:  ARIMA(1,0,0)(0,0,0)[0] intercept\n",
            "Total fit time: 960.929 seconds\n"
          ],
          "name": "stdout"
        }
      ]
    },
    {
      "cell_type": "code",
      "metadata": {
        "id": "oVeyfwkv9kXt"
      },
      "source": [
        "sales_testing['Date'] = pd.to_datetime(sales_testing['Date'])\n",
        "sales_testing.set_index(sales_testing['Date'], inplace=True)\n",
        "sales_testing=sales_testing.drop(columns=['Date'])"
      ],
      "execution_count": null,
      "outputs": []
    },
    {
      "cell_type": "code",
      "metadata": {
        "id": "BL-1htXD9hMN"
      },
      "source": [
        "model.fit(sales_training[['Weekly_Sales']], exogenous=sales_training[['Holiday']])\n",
        "forecast = model.predict(n_periods=len(sales_testing), exogenous=sales_training['Holiday'])\n",
        "sales_testing[\"Forecast_ARIMAX_EXOG\"] = forecast"
      ],
      "execution_count": null,
      "outputs": []
    },
    {
      "cell_type": "code",
      "metadata": {
        "colab": {
          "base_uri": "https://localhost:8080/",
          "height": 142
        },
        "id": "HB4VVL-al0Cu",
        "outputId": "e88765c5-0a27-4232-a783-206d89ffc6ef"
      },
      "source": [
        "sales_testing"
      ],
      "execution_count": null,
      "outputs": [
        {
          "output_type": "execute_result",
          "data": {
            "text/html": [
              "<div>\n",
              "<style scoped>\n",
              "    .dataframe tbody tr th:only-of-type {\n",
              "        vertical-align: middle;\n",
              "    }\n",
              "\n",
              "    .dataframe tbody tr th {\n",
              "        vertical-align: top;\n",
              "    }\n",
              "\n",
              "    .dataframe thead th {\n",
              "        text-align: right;\n",
              "    }\n",
              "</style>\n",
              "<table border=\"1\" class=\"dataframe\">\n",
              "  <thead>\n",
              "    <tr style=\"text-align: right;\">\n",
              "      <th></th>\n",
              "      <th>Weekly_Sales</th>\n",
              "      <th>Forecast_ARIMAX_EXOG</th>\n",
              "    </tr>\n",
              "  </thead>\n",
              "  <tbody>\n",
              "    <tr>\n",
              "      <th>421567</th>\n",
              "      <td>1061.02</td>\n",
              "      <td>1470.343772</td>\n",
              "    </tr>\n",
              "    <tr>\n",
              "      <th>421568</th>\n",
              "      <td>760.01</td>\n",
              "      <td>2266.380992</td>\n",
              "    </tr>\n",
              "    <tr>\n",
              "      <th>421569</th>\n",
              "      <td>1076.80</td>\n",
              "      <td>3018.746610</td>\n",
              "    </tr>\n",
              "  </tbody>\n",
              "</table>\n",
              "</div>"
            ],
            "text/plain": [
              "        Weekly_Sales  Forecast_ARIMAX_EXOG\n",
              "421567       1061.02           1470.343772\n",
              "421568        760.01           2266.380992\n",
              "421569       1076.80           3018.746610"
            ]
          },
          "metadata": {
            "tags": []
          },
          "execution_count": 195
        }
      ]
    },
    {
      "cell_type": "code",
      "metadata": {
        "colab": {
          "base_uri": "https://localhost:8080/"
        },
        "id": "w9Ywd4GJemuW",
        "outputId": "c10d1a2b-5d6b-4c37-c299-cccd603054c2"
      },
      "source": [
        "print(\"Printing Different foreast Metrics\\n\\n\",\n",
        "      forecast_accuracy(sales_testing.Forecast_ARIMAX_EXOG, sales_testing.Weekly_Sales))"
      ],
      "execution_count": null,
      "outputs": [
        {
          "output_type": "stream",
          "text": [
            "Printing Different foreast Metrics\n",
            "\n",
            " {'mape': 1.3904221792118212, 'me': 1285.8804581142583, 'mae': 1285.8804581142583, 'mpe': 1.3904221792118212, 'rmse': 1438.5010895118473, 'acf1': -0.038974223194780756, 'corr': 0.027925694024376613, 'minmax': 0.5287804382722758}\n"
          ],
          "name": "stdout"
        }
      ]
    },
    {
      "cell_type": "code",
      "metadata": {
        "id": "edFlbB7k2U3Y"
      },
      "source": [
        "sales_testing['Date'] = pd.to_datetime(sales_testing['Date'])\n",
        "sales_testing.set_index(sales_testing['Date'], inplace=True)\n",
        "sales_testing=sales_testing.drop(columns=['Date'])"
      ],
      "execution_count": null,
      "outputs": []
    },
    {
      "cell_type": "code",
      "metadata": {
        "id": "_arB8tt_2WWv"
      },
      "source": [
        "sales_testing = sales_testing[['Weekly_Sales']]"
      ],
      "execution_count": null,
      "outputs": []
    },
    {
      "cell_type": "code",
      "metadata": {
        "colab": {
          "base_uri": "https://localhost:8080/"
        },
        "id": "SBi3e6vbW7Hn",
        "outputId": "082bf146-46e1-44be-fc42-dadb7ae6b316"
      },
      "source": [
        "# 3,0,3 ARIMA Model - Validating the ARIMA model\n",
        "model = ARIMA(sales_training['Weekly_Sales'], order=(3,0,3))\n",
        "model_fit = model.fit(disp=0)\n",
        "print(model_fit.summary())"
      ],
      "execution_count": null,
      "outputs": [
        {
          "output_type": "stream",
          "text": [
            "/usr/local/lib/python3.7/dist-packages/statsmodels/tsa/base/tsa_model.py:219: ValueWarning:\n",
            "\n",
            "A date index has been provided, but it has no associated frequency information and so will be ignored when e.g. forecasting.\n",
            "\n"
          ],
          "name": "stderr"
        },
        {
          "output_type": "stream",
          "text": [
            "                              ARMA Model Results                              \n",
            "==============================================================================\n",
            "Dep. Variable:           Weekly_Sales   No. Observations:               421567\n",
            "Model:                     ARMA(3, 3)   Log Likelihood            -4311949.974\n",
            "Method:                       css-mle   S.D. of innovations           6697.195\n",
            "Date:                Tue, 01 Jun 2021   AIC                        8623915.947\n",
            "Time:                        18:30:22   BIC                        8624003.561\n",
            "Sample:                             0   HQIC                       8623940.927\n",
            "                                                                              \n",
            "======================================================================================\n",
            "                         coef    std err          z      P>|z|      [0.025      0.975]\n",
            "--------------------------------------------------------------------------------------\n",
            "const               1.598e+04    499.693     31.982      0.000     1.5e+04     1.7e+04\n",
            "ar.L1.Weekly_Sales     0.0090      0.006      1.440      0.150      -0.003       0.021\n",
            "ar.L2.Weekly_Sales     0.5410      0.006     83.629      0.000       0.528       0.554\n",
            "ar.L3.Weekly_Sales     0.4277      0.006     75.194      0.000       0.417       0.439\n",
            "ma.L1.Weekly_Sales     0.5466      0.006     92.091      0.000       0.535       0.558\n",
            "ma.L2.Weekly_Sales    -0.0879      0.005    -16.657      0.000      -0.098      -0.078\n",
            "ma.L3.Weekly_Sales    -0.3809      0.002   -155.968      0.000      -0.386      -0.376\n",
            "                                    Roots                                    \n",
            "=============================================================================\n",
            "                  Real          Imaginary           Modulus         Frequency\n",
            "-----------------------------------------------------------------------------\n",
            "AR.1            1.0093           -0.0000j            1.0093           -0.0000\n",
            "AR.2           -1.1371           -1.0116j            1.5219           -0.3843\n",
            "AR.3           -1.1371           +1.0116j            1.5219            0.3843\n",
            "MA.1           -0.9318           -0.8600j            1.2680           -0.3814\n",
            "MA.2           -0.9318           +0.8600j            1.2680            0.3814\n",
            "MA.3            1.6328           -0.0000j            1.6328           -0.0000\n",
            "-----------------------------------------------------------------------------\n"
          ],
          "name": "stdout"
        }
      ]
    },
    {
      "cell_type": "code",
      "metadata": {
        "colab": {
          "base_uri": "https://localhost:8080/"
        },
        "id": "2bdBnEWQ2RZX",
        "outputId": "1f733b01-4b7d-4bfe-efe5-3d3aec7040cb"
      },
      "source": [
        "start = len(sales_training)\n",
        "end = len(sales_training) + len(sales_testing)-1\n",
        "pred = model_fit.predict(start=start, end=end, exog=None, dynamic=False)\n",
        "sales_testing[\"Forecast_ARIMA\"] = pred.values"
      ],
      "execution_count": null,
      "outputs": [
        {
          "output_type": "stream",
          "text": [
            "/usr/local/lib/python3.7/dist-packages/statsmodels/tsa/base/tsa_model.py:576: ValueWarning:\n",
            "\n",
            "No supported index is available. Prediction results will be given with an integer index beginning at `start`.\n",
            "\n"
          ],
          "name": "stderr"
        }
      ]
    },
    {
      "cell_type": "code",
      "metadata": {
        "colab": {
          "base_uri": "https://localhost:8080/"
        },
        "id": "pwMNrr1229Xd",
        "outputId": "8fe7ed9e-07cd-4105-dd81-b451a4451956"
      },
      "source": [
        "forecast_accuracy(sales_testing.Forecast_ARIMA, sales_testing.Weekly_Sales)"
      ],
      "execution_count": null,
      "outputs": [
        {
          "output_type": "execute_result",
          "data": {
            "text/plain": [
              "{'acf1': -0.5273264495937352,\n",
              " 'corr': -0.034563610417804,\n",
              " 'mae': 159.27832621379636,\n",
              " 'mape': 0.18544092129498754,\n",
              " 'me': 70.66656879187853,\n",
              " 'minmax': 0.15018724462899335,\n",
              " 'mpe': 0.10192528782726984,\n",
              " 'rmse': 185.2580637320316}"
            ]
          },
          "metadata": {
            "tags": []
          },
          "execution_count": 21
        }
      ]
    },
    {
      "cell_type": "code",
      "metadata": {
        "colab": {
          "base_uri": "https://localhost:8080/"
        },
        "id": "7sE6Z9HGllv4",
        "outputId": "1b3c9f50-1e8c-40c8-945c-f6e071fed66d"
      },
      "source": [
        "from statsmodels.tsa.arima_model import ARIMA\n",
        "import pmdarima as pm\n",
        "\n",
        "smodel = pm.auto_arima(df_subset['Weekly_Sales'], start_p=1, start_q=1,\n",
        "                         test='adf',\n",
        "                         max_p=3, max_q=3, m=12,\n",
        "                         start_P=0, seasonal=True,\n",
        "                         d=None, D=1, trace=True,\n",
        "                         error_action='ignore',  \n",
        "                         suppress_warnings=True, \n",
        "                         stepwise=True)\n",
        "\n",
        "print(smodel.summary())"
      ],
      "execution_count": null,
      "outputs": [
        {
          "output_type": "stream",
          "text": [
            "Performing stepwise search to minimize aic\n",
            " ARIMA(1,0,1)(0,1,1)[12] intercept   : AIC=inf, Time=959.91 sec\n",
            " ARIMA(0,0,0)(0,1,0)[12] intercept   : AIC=4377470.066, Time=8.43 sec\n"
          ],
          "name": "stdout"
        }
      ]
    },
    {
      "cell_type": "code",
      "metadata": {
        "colab": {
          "base_uri": "https://localhost:8080/"
        },
        "id": "Q-PlCVfTkBzD",
        "outputId": "204b2228-5373-4995-d20a-b0bf3d4734f9"
      },
      "source": [
        "import itertools\n",
        "import statsmodels.api as sm\n",
        "\n",
        "\n",
        "p = d = q = range(0, 2) # Define the p, d and q parameters to take any value between 0 and 2\n",
        "pdq = list(itertools.product(p, d, q)) # Generate all different combinations of p, q and q triplets\n",
        "pdq_x_QDQs = [(x[0], x[1], x[2], 12) for x in list(itertools.product(p, d, q))] # Generate all different combinations of seasonal p, q and q triplets\n",
        "print('Examples of Seasonal ARIMA parameter combinations for Seasonal ARIMA...')\n",
        "print('SARIMAX: {} x {}'.format(pdq[1], pdq_x_QDQs[1]))\n",
        "print('SARIMAX: {} x {}'.format(pdq[2], pdq_x_QDQs[2]))"
      ],
      "execution_count": null,
      "outputs": [
        {
          "output_type": "stream",
          "text": [
            "Examples of Seasonal ARIMA parameter combinations for Seasonal ARIMA...\n",
            "SARIMAX: (0, 0, 1) x (0, 0, 1, 12)\n",
            "SARIMAX: (0, 1, 0) x (0, 1, 0, 12)\n"
          ],
          "name": "stdout"
        }
      ]
    },
    {
      "cell_type": "code",
      "metadata": {
        "colab": {
          "base_uri": "https://localhost:8080/"
        },
        "id": "j3dIw28AkV-2",
        "outputId": "64d67d6b-4b7a-4bd1-be83-6071c84a2ed0"
      },
      "source": [
        "print(pdq)\n",
        "print(pdq_x_QDQs)"
      ],
      "execution_count": null,
      "outputs": [
        {
          "output_type": "stream",
          "text": [
            "[(0, 0, 0), (0, 0, 1), (0, 1, 0), (0, 1, 1), (1, 0, 0), (1, 0, 1), (1, 1, 0), (1, 1, 1)]\n",
            "[(0, 0, 0, 12), (0, 0, 1, 12), (0, 1, 0, 12), (0, 1, 1, 12), (1, 0, 0, 12), (1, 0, 1, 12), (1, 1, 0, 12), (1, 1, 1, 12)]\n"
          ],
          "name": "stdout"
        }
      ]
    },
    {
      "cell_type": "code",
      "metadata": {
        "colab": {
          "base_uri": "https://localhost:8080/"
        },
        "id": "apSmVC9Vkbjk",
        "outputId": "ea51f34f-41cc-4ce4-dc0d-4fb6c7ac4e39"
      },
      "source": [
        "for param in pdq:\n",
        "    for seasonal_param in pdq_x_QDQs:\n",
        "        try:\n",
        "            mod = sm.tsa.statespace.SARIMAX(sales_training,\n",
        "                                            order=param,\n",
        "                                            seasonal_order=seasonal_param,\n",
        "                                            enforce_stationarity=False,\n",
        "                                            enforce_invertibility=False)\n",
        "            results = mod.fit()\n",
        "            print('ARIMA{}x{} - AIC:{}'.format(param, param_seasonal, results.aic))\n",
        "        except:\n",
        "            continue"
      ],
      "execution_count": null,
      "outputs": [
        {
          "output_type": "stream",
          "text": [
            "ARIMA(0, 0, 0)x(1, 1, 1, 12) - AIC:9823054.430101244\n",
            "ARIMA(0, 0, 0)x(1, 1, 1, 12) - AIC:9603547.943218032\n",
            "ARIMA(0, 0, 0)x(1, 1, 1, 12) - AIC:9130129.278262202\n"
          ],
          "name": "stdout"
        }
      ]
    },
    {
      "cell_type": "code",
      "metadata": {
        "colab": {
          "base_uri": "https://localhost:8080/"
        },
        "id": "yaGkWCGgkmod",
        "outputId": "9e959dda-6087-418f-e57e-9f85a56907c7"
      },
      "source": [
        "warnings.filterwarnings(\"ignore\") # specify to ignore warning messages\n",
        "\n",
        "for param in pdq:\n",
        "    for param_seasonal in pdq_x_QDQs:\n",
        "        try:\n",
        "            mod = sm.tsa.statespace.SARIMAX(sales_training,\n",
        "                                            order=param,\n",
        "                                            seasonal_order=param_seasonal,\n",
        "                                            enforce_stationarity=False,\n",
        "                                            enforce_invertibility=False)\n",
        "\n",
        "            results = mod.fit()\n",
        "\n",
        "            print('ARIMA{}x{}12 - AIC:{}'.format(param, param_seasonal, results.aic))\n",
        "            a.append(param)\n",
        "            b.append(param_seasonal)\n",
        "            c.append(results.aic)\n",
        "        except:\n",
        "            continue\n",
        "wf['pdq']=a\n",
        "wf['pdq_x_QDQs']=b\n",
        "wf['aic']=c\n",
        "print(wf[wf['aic']==wf['aic'].min()])\n"
      ],
      "execution_count": null,
      "outputs": [
        {
          "output_type": "stream",
          "text": [
            "Empty DataFrame\n",
            "Columns: [pdq, pdq_x_QDQs, aic]\n",
            "Index: []\n"
          ],
          "name": "stdout"
        }
      ]
    },
    {
      "cell_type": "code",
      "metadata": {
        "id": "d9w0SWZblTb7"
      },
      "source": [
        "import itertools\n",
        "import statsmodels.api as sm\n",
        "mod = sm.tsa.statespace.SARIMAX(sales_training['Weekly_Sales'],order=(1,0,1), seasonal_order=(0,1,1,12), enforce_stationarity=False,enforce_invertibility=False)\n",
        "results = mod.fit()\n",
        "print(results.summary())"
      ],
      "execution_count": null,
      "outputs": []
    },
    {
      "cell_type": "code",
      "metadata": {
        "colab": {
          "base_uri": "https://localhost:8080/",
          "height": 214
        },
        "id": "61cqY63Rwen6",
        "outputId": "04d9d53c-0740-49c9-d9a9-6657530afdbc"
      },
      "source": [
        "start = len(sales_training)\n",
        "end = len(sales_training) + len(sales_testing)-1\n",
        "pred = results.predict(start=start, end=end, exog=None, dynamic=False)\n",
        "sales_testing[\"Forecast_SARIMAX\"] = pred.values"
      ],
      "execution_count": null,
      "outputs": [
        {
          "output_type": "error",
          "ename": "NameError",
          "evalue": "ignored",
          "traceback": [
            "\u001b[0;31m---------------------------------------------------------------------------\u001b[0m",
            "\u001b[0;31mNameError\u001b[0m                                 Traceback (most recent call last)",
            "\u001b[0;32m<ipython-input-1-ac4870618a62>\u001b[0m in \u001b[0;36m<module>\u001b[0;34m()\u001b[0m\n\u001b[0;32m----> 1\u001b[0;31m \u001b[0mstart\u001b[0m \u001b[0;34m=\u001b[0m \u001b[0mlen\u001b[0m\u001b[0;34m(\u001b[0m\u001b[0msales_training\u001b[0m\u001b[0;34m)\u001b[0m\u001b[0;34m\u001b[0m\u001b[0;34m\u001b[0m\u001b[0m\n\u001b[0m\u001b[1;32m      2\u001b[0m \u001b[0mend\u001b[0m \u001b[0;34m=\u001b[0m \u001b[0mlen\u001b[0m\u001b[0;34m(\u001b[0m\u001b[0msales_training\u001b[0m\u001b[0;34m)\u001b[0m \u001b[0;34m+\u001b[0m \u001b[0mlen\u001b[0m\u001b[0;34m(\u001b[0m\u001b[0msales_testing\u001b[0m\u001b[0;34m)\u001b[0m\u001b[0;34m-\u001b[0m\u001b[0;36m1\u001b[0m\u001b[0;34m\u001b[0m\u001b[0;34m\u001b[0m\u001b[0m\n\u001b[1;32m      3\u001b[0m \u001b[0mpred\u001b[0m \u001b[0;34m=\u001b[0m \u001b[0mresults\u001b[0m\u001b[0;34m.\u001b[0m\u001b[0mpredict\u001b[0m\u001b[0;34m(\u001b[0m\u001b[0mstart\u001b[0m\u001b[0;34m=\u001b[0m\u001b[0mstart\u001b[0m\u001b[0;34m,\u001b[0m \u001b[0mend\u001b[0m\u001b[0;34m=\u001b[0m\u001b[0mend\u001b[0m\u001b[0;34m,\u001b[0m \u001b[0mexog\u001b[0m\u001b[0;34m=\u001b[0m\u001b[0;32mNone\u001b[0m\u001b[0;34m,\u001b[0m \u001b[0mdynamic\u001b[0m\u001b[0;34m=\u001b[0m\u001b[0;32mFalse\u001b[0m\u001b[0;34m)\u001b[0m\u001b[0;34m\u001b[0m\u001b[0;34m\u001b[0m\u001b[0m\n\u001b[1;32m      4\u001b[0m \u001b[0msales_testing\u001b[0m\u001b[0;34m[\u001b[0m\u001b[0;34m\"Forecast_SARIMAX\"\u001b[0m\u001b[0;34m]\u001b[0m \u001b[0;34m=\u001b[0m \u001b[0mpred\u001b[0m\u001b[0;34m.\u001b[0m\u001b[0mvalues\u001b[0m\u001b[0;34m\u001b[0m\u001b[0;34m\u001b[0m\u001b[0m\n",
            "\u001b[0;31mNameError\u001b[0m: name 'sales_training' is not defined"
          ]
        }
      ]
    },
    {
      "cell_type": "code",
      "metadata": {
        "colab": {
          "base_uri": "https://localhost:8080/",
          "height": 173
        },
        "id": "8j-l0lFUxGnC",
        "outputId": "a0e3454e-25ca-4c55-dd31-8ff2f8a38e0f"
      },
      "source": [
        ""
      ],
      "execution_count": null,
      "outputs": [
        {
          "output_type": "execute_result",
          "data": {
            "text/html": [
              "<div>\n",
              "<style scoped>\n",
              "    .dataframe tbody tr th:only-of-type {\n",
              "        vertical-align: middle;\n",
              "    }\n",
              "\n",
              "    .dataframe tbody tr th {\n",
              "        vertical-align: top;\n",
              "    }\n",
              "\n",
              "    .dataframe thead th {\n",
              "        text-align: right;\n",
              "    }\n",
              "</style>\n",
              "<table border=\"1\" class=\"dataframe\">\n",
              "  <thead>\n",
              "    <tr style=\"text-align: right;\">\n",
              "      <th></th>\n",
              "      <th>Store</th>\n",
              "      <th>Dept</th>\n",
              "      <th>Weekly_Sales</th>\n",
              "      <th>IsHoliday</th>\n",
              "      <th>Forecast_SARIMAX</th>\n",
              "    </tr>\n",
              "    <tr>\n",
              "      <th>Date</th>\n",
              "      <th></th>\n",
              "      <th></th>\n",
              "      <th></th>\n",
              "      <th></th>\n",
              "      <th></th>\n",
              "    </tr>\n",
              "  </thead>\n",
              "  <tbody>\n",
              "    <tr>\n",
              "      <th>2012-10-12</th>\n",
              "      <td>45</td>\n",
              "      <td>98</td>\n",
              "      <td>1061.02</td>\n",
              "      <td>False</td>\n",
              "      <td>557.752226</td>\n",
              "    </tr>\n",
              "    <tr>\n",
              "      <th>2012-10-19</th>\n",
              "      <td>45</td>\n",
              "      <td>98</td>\n",
              "      <td>760.01</td>\n",
              "      <td>False</td>\n",
              "      <td>576.722219</td>\n",
              "    </tr>\n",
              "    <tr>\n",
              "      <th>2012-10-26</th>\n",
              "      <td>45</td>\n",
              "      <td>98</td>\n",
              "      <td>1076.80</td>\n",
              "      <td>False</td>\n",
              "      <td>532.000673</td>\n",
              "    </tr>\n",
              "  </tbody>\n",
              "</table>\n",
              "</div>"
            ],
            "text/plain": [
              "            Store  Dept  Weekly_Sales  IsHoliday  Forecast_SARIMAX\n",
              "Date                                                              \n",
              "2012-10-12     45    98       1061.02      False        557.752226\n",
              "2012-10-19     45    98        760.01      False        576.722219\n",
              "2012-10-26     45    98       1076.80      False        532.000673"
            ]
          },
          "metadata": {
            "tags": []
          },
          "execution_count": 16
        }
      ]
    },
    {
      "cell_type": "code",
      "metadata": {
        "id": "q_DoOCJmr33C"
      },
      "source": [
        "import statsmodels.api as sm\n",
        "mod1 = sm.tsa.statespace.SARIMAX(sales_training, \n",
        "                                order=(1,1,1), \n",
        "                                seasonal_order=(0,1,1,12),   \n",
        "                                enforce_stationarity=False,\n",
        "                                enforce_invertibility=False)\n",
        "results = mod1.fit()\n",
        "print(results.summary())"
      ],
      "execution_count": null,
      "outputs": []
    },
    {
      "cell_type": "code",
      "metadata": {
        "id": "krs0bh4J58zt"
      },
      "source": [
        "## FB - prophet model for time series analysis;\n",
        "\n",
        "sales_training['ds'] = pd.DatetimeIndex(sales_training['Date'])\n",
        "sales_training = sales_training[['ds', 'Weekly_Sales']]"
      ],
      "execution_count": null,
      "outputs": []
    },
    {
      "cell_type": "code",
      "metadata": {
        "id": "exFtlVSm7gAN"
      },
      "source": [
        "sales_training.rename(columns = {'Weekly_Sales':'y'}, inplace = True)\n",
        "sales_train_fb_prophet = sales_training.copy()"
      ],
      "execution_count": null,
      "outputs": []
    },
    {
      "cell_type": "code",
      "metadata": {
        "colab": {
          "base_uri": "https://localhost:8080/"
        },
        "id": "1e0_CtdC5Rqi",
        "outputId": "8d91a8dc-f3aa-4f42-d222-575fe47cc29b"
      },
      "source": [
        "# Fitting FB prophet; Model Training  \n",
        "m = Prophet(interval_width=0.95, daily_seasonality=False)\n",
        "model = m.fit(sales_train_fb_prophet)"
      ],
      "execution_count": null,
      "outputs": [
        {
          "output_type": "stream",
          "text": [
            "INFO:numexpr.utils:NumExpr defaulting to 4 threads.\n",
            "INFO:fbprophet:Disabling weekly seasonality. Run prophet with weekly_seasonality=True to override this.\n"
          ],
          "name": "stderr"
        }
      ]
    },
    {
      "cell_type": "code",
      "metadata": {
        "colab": {
          "base_uri": "https://localhost:8080/",
          "height": 142
        },
        "id": "-3RTXg-eAYC5",
        "outputId": "44d2cca7-347f-4a00-baa3-b4a312f7e5e8"
      },
      "source": [
        "sales_train_fb_prophet.tail(3)"
      ],
      "execution_count": null,
      "outputs": [
        {
          "output_type": "execute_result",
          "data": {
            "text/html": [
              "<div>\n",
              "<style scoped>\n",
              "    .dataframe tbody tr th:only-of-type {\n",
              "        vertical-align: middle;\n",
              "    }\n",
              "\n",
              "    .dataframe tbody tr th {\n",
              "        vertical-align: top;\n",
              "    }\n",
              "\n",
              "    .dataframe thead th {\n",
              "        text-align: right;\n",
              "    }\n",
              "</style>\n",
              "<table border=\"1\" class=\"dataframe\">\n",
              "  <thead>\n",
              "    <tr style=\"text-align: right;\">\n",
              "      <th></th>\n",
              "      <th>ds</th>\n",
              "      <th>y</th>\n",
              "    </tr>\n",
              "  </thead>\n",
              "  <tbody>\n",
              "    <tr>\n",
              "      <th>421564</th>\n",
              "      <td>2012-09-21</td>\n",
              "      <td>467.30</td>\n",
              "    </tr>\n",
              "    <tr>\n",
              "      <th>421565</th>\n",
              "      <td>2012-09-28</td>\n",
              "      <td>508.37</td>\n",
              "    </tr>\n",
              "    <tr>\n",
              "      <th>421566</th>\n",
              "      <td>2012-10-05</td>\n",
              "      <td>628.10</td>\n",
              "    </tr>\n",
              "  </tbody>\n",
              "</table>\n",
              "</div>"
            ],
            "text/plain": [
              "               ds       y\n",
              "421564 2012-09-21  467.30\n",
              "421565 2012-09-28  508.37\n",
              "421566 2012-10-05  628.10"
            ]
          },
          "metadata": {
            "tags": []
          },
          "execution_count": 56
        }
      ]
    },
    {
      "cell_type": "code",
      "metadata": {
        "id": "_5AFVLxh9kRT"
      },
      "source": [
        "# Forecast Away 3 time weekly time frames;\n",
        "future = m.make_future_dataframe(periods=6, freq='W')\n",
        "forecast = m.predict(future)"
      ],
      "execution_count": null,
      "outputs": []
    },
    {
      "cell_type": "code",
      "metadata": {
        "colab": {
          "base_uri": "https://localhost:8080/",
          "height": 549
        },
        "id": "_24MpLBfKF9o",
        "outputId": "b6582ae7-a0a2-4968-c80a-5c1e9ec5a074"
      },
      "source": [
        "forecast.tail(10)"
      ],
      "execution_count": null,
      "outputs": [
        {
          "output_type": "execute_result",
          "data": {
            "text/html": [
              "<div>\n",
              "<style scoped>\n",
              "    .dataframe tbody tr th:only-of-type {\n",
              "        vertical-align: middle;\n",
              "    }\n",
              "\n",
              "    .dataframe tbody tr th {\n",
              "        vertical-align: top;\n",
              "    }\n",
              "\n",
              "    .dataframe thead th {\n",
              "        text-align: right;\n",
              "    }\n",
              "</style>\n",
              "<table border=\"1\" class=\"dataframe\">\n",
              "  <thead>\n",
              "    <tr style=\"text-align: right;\">\n",
              "      <th></th>\n",
              "      <th>ds</th>\n",
              "      <th>trend</th>\n",
              "      <th>yhat_lower</th>\n",
              "      <th>yhat_upper</th>\n",
              "      <th>trend_lower</th>\n",
              "      <th>trend_upper</th>\n",
              "      <th>additive_terms</th>\n",
              "      <th>additive_terms_lower</th>\n",
              "      <th>additive_terms_upper</th>\n",
              "      <th>yearly</th>\n",
              "      <th>yearly_lower</th>\n",
              "      <th>yearly_upper</th>\n",
              "      <th>multiplicative_terms</th>\n",
              "      <th>multiplicative_terms_lower</th>\n",
              "      <th>multiplicative_terms_upper</th>\n",
              "      <th>yhat</th>\n",
              "    </tr>\n",
              "  </thead>\n",
              "  <tbody>\n",
              "    <tr>\n",
              "      <th>139</th>\n",
              "      <td>2012-10-05</td>\n",
              "      <td>16372.156956</td>\n",
              "      <td>-26467.859729</td>\n",
              "      <td>61929.657388</td>\n",
              "      <td>16372.156956</td>\n",
              "      <td>16372.156956</td>\n",
              "      <td>-893.858177</td>\n",
              "      <td>-893.858177</td>\n",
              "      <td>-893.858177</td>\n",
              "      <td>-893.858177</td>\n",
              "      <td>-893.858177</td>\n",
              "      <td>-893.858177</td>\n",
              "      <td>0.0</td>\n",
              "      <td>0.0</td>\n",
              "      <td>0.0</td>\n",
              "      <td>15478.298779</td>\n",
              "    </tr>\n",
              "    <tr>\n",
              "      <th>140</th>\n",
              "      <td>2012-10-12</td>\n",
              "      <td>16383.148977</td>\n",
              "      <td>-26917.412506</td>\n",
              "      <td>56987.464919</td>\n",
              "      <td>16383.148977</td>\n",
              "      <td>16383.148977</td>\n",
              "      <td>-784.032773</td>\n",
              "      <td>-784.032773</td>\n",
              "      <td>-784.032773</td>\n",
              "      <td>-784.032773</td>\n",
              "      <td>-784.032773</td>\n",
              "      <td>-784.032773</td>\n",
              "      <td>0.0</td>\n",
              "      <td>0.0</td>\n",
              "      <td>0.0</td>\n",
              "      <td>15599.116204</td>\n",
              "    </tr>\n",
              "    <tr>\n",
              "      <th>141</th>\n",
              "      <td>2012-10-19</td>\n",
              "      <td>16394.140997</td>\n",
              "      <td>-30727.191089</td>\n",
              "      <td>58896.611394</td>\n",
              "      <td>16394.140997</td>\n",
              "      <td>16394.140997</td>\n",
              "      <td>-1042.685314</td>\n",
              "      <td>-1042.685314</td>\n",
              "      <td>-1042.685314</td>\n",
              "      <td>-1042.685314</td>\n",
              "      <td>-1042.685314</td>\n",
              "      <td>-1042.685314</td>\n",
              "      <td>0.0</td>\n",
              "      <td>0.0</td>\n",
              "      <td>0.0</td>\n",
              "      <td>15351.455683</td>\n",
              "    </tr>\n",
              "    <tr>\n",
              "      <th>142</th>\n",
              "      <td>2012-10-26</td>\n",
              "      <td>16405.133018</td>\n",
              "      <td>-30579.234447</td>\n",
              "      <td>61103.261301</td>\n",
              "      <td>16405.133018</td>\n",
              "      <td>16405.133018</td>\n",
              "      <td>-1116.758893</td>\n",
              "      <td>-1116.758893</td>\n",
              "      <td>-1116.758893</td>\n",
              "      <td>-1116.758893</td>\n",
              "      <td>-1116.758893</td>\n",
              "      <td>-1116.758893</td>\n",
              "      <td>0.0</td>\n",
              "      <td>0.0</td>\n",
              "      <td>0.0</td>\n",
              "      <td>15288.374124</td>\n",
              "    </tr>\n",
              "    <tr>\n",
              "      <th>143</th>\n",
              "      <td>2012-10-28</td>\n",
              "      <td>16408.273595</td>\n",
              "      <td>-26536.025561</td>\n",
              "      <td>58820.465753</td>\n",
              "      <td>16408.273595</td>\n",
              "      <td>16408.441777</td>\n",
              "      <td>-1026.159957</td>\n",
              "      <td>-1026.159957</td>\n",
              "      <td>-1026.159957</td>\n",
              "      <td>-1026.159957</td>\n",
              "      <td>-1026.159957</td>\n",
              "      <td>-1026.159957</td>\n",
              "      <td>0.0</td>\n",
              "      <td>0.0</td>\n",
              "      <td>0.0</td>\n",
              "      <td>15382.113638</td>\n",
              "    </tr>\n",
              "    <tr>\n",
              "      <th>144</th>\n",
              "      <td>2012-11-04</td>\n",
              "      <td>16419.265615</td>\n",
              "      <td>-24934.262400</td>\n",
              "      <td>61513.466160</td>\n",
              "      <td>16408.695996</td>\n",
              "      <td>16433.418391</td>\n",
              "      <td>-298.539173</td>\n",
              "      <td>-298.539173</td>\n",
              "      <td>-298.539173</td>\n",
              "      <td>-298.539173</td>\n",
              "      <td>-298.539173</td>\n",
              "      <td>-298.539173</td>\n",
              "      <td>0.0</td>\n",
              "      <td>0.0</td>\n",
              "      <td>0.0</td>\n",
              "      <td>16120.726442</td>\n",
              "    </tr>\n",
              "    <tr>\n",
              "      <th>145</th>\n",
              "      <td>2012-11-11</td>\n",
              "      <td>16430.257636</td>\n",
              "      <td>-29008.092711</td>\n",
              "      <td>61173.633671</td>\n",
              "      <td>16401.910878</td>\n",
              "      <td>16464.645987</td>\n",
              "      <td>681.189949</td>\n",
              "      <td>681.189949</td>\n",
              "      <td>681.189949</td>\n",
              "      <td>681.189949</td>\n",
              "      <td>681.189949</td>\n",
              "      <td>681.189949</td>\n",
              "      <td>0.0</td>\n",
              "      <td>0.0</td>\n",
              "      <td>0.0</td>\n",
              "      <td>17111.447584</td>\n",
              "    </tr>\n",
              "    <tr>\n",
              "      <th>146</th>\n",
              "      <td>2012-11-18</td>\n",
              "      <td>16441.249656</td>\n",
              "      <td>-23473.255757</td>\n",
              "      <td>58605.266686</td>\n",
              "      <td>16385.670834</td>\n",
              "      <td>16502.373726</td>\n",
              "      <td>1374.168552</td>\n",
              "      <td>1374.168552</td>\n",
              "      <td>1374.168552</td>\n",
              "      <td>1374.168552</td>\n",
              "      <td>1374.168552</td>\n",
              "      <td>1374.168552</td>\n",
              "      <td>0.0</td>\n",
              "      <td>0.0</td>\n",
              "      <td>0.0</td>\n",
              "      <td>17815.418208</td>\n",
              "    </tr>\n",
              "    <tr>\n",
              "      <th>147</th>\n",
              "      <td>2012-11-25</td>\n",
              "      <td>16452.241677</td>\n",
              "      <td>-25347.481452</td>\n",
              "      <td>59370.580285</td>\n",
              "      <td>16370.035204</td>\n",
              "      <td>16553.169543</td>\n",
              "      <td>1840.779294</td>\n",
              "      <td>1840.779294</td>\n",
              "      <td>1840.779294</td>\n",
              "      <td>1840.779294</td>\n",
              "      <td>1840.779294</td>\n",
              "      <td>1840.779294</td>\n",
              "      <td>0.0</td>\n",
              "      <td>0.0</td>\n",
              "      <td>0.0</td>\n",
              "      <td>18293.020971</td>\n",
              "    </tr>\n",
              "    <tr>\n",
              "      <th>148</th>\n",
              "      <td>2012-12-02</td>\n",
              "      <td>16463.233697</td>\n",
              "      <td>-23455.615776</td>\n",
              "      <td>62528.594656</td>\n",
              "      <td>16352.325298</td>\n",
              "      <td>16591.955299</td>\n",
              "      <td>2685.687129</td>\n",
              "      <td>2685.687129</td>\n",
              "      <td>2685.687129</td>\n",
              "      <td>2685.687129</td>\n",
              "      <td>2685.687129</td>\n",
              "      <td>2685.687129</td>\n",
              "      <td>0.0</td>\n",
              "      <td>0.0</td>\n",
              "      <td>0.0</td>\n",
              "      <td>19148.920826</td>\n",
              "    </tr>\n",
              "  </tbody>\n",
              "</table>\n",
              "</div>"
            ],
            "text/plain": [
              "            ds         trend  ...  multiplicative_terms_upper          yhat\n",
              "139 2012-10-05  16372.156956  ...                         0.0  15478.298779\n",
              "140 2012-10-12  16383.148977  ...                         0.0  15599.116204\n",
              "141 2012-10-19  16394.140997  ...                         0.0  15351.455683\n",
              "142 2012-10-26  16405.133018  ...                         0.0  15288.374124\n",
              "143 2012-10-28  16408.273595  ...                         0.0  15382.113638\n",
              "144 2012-11-04  16419.265615  ...                         0.0  16120.726442\n",
              "145 2012-11-11  16430.257636  ...                         0.0  17111.447584\n",
              "146 2012-11-18  16441.249656  ...                         0.0  17815.418208\n",
              "147 2012-11-25  16452.241677  ...                         0.0  18293.020971\n",
              "148 2012-12-02  16463.233697  ...                         0.0  19148.920826\n",
              "\n",
              "[10 rows x 16 columns]"
            ]
          },
          "metadata": {
            "tags": []
          },
          "execution_count": 58
        }
      ]
    },
    {
      "cell_type": "code",
      "metadata": {
        "colab": {
          "base_uri": "https://localhost:8080/",
          "height": 390
        },
        "id": "Cti-YdCr_csi",
        "outputId": "e9702b6f-8204-41b6-b7a8-17c1237d039f"
      },
      "source": [
        "future.tail(11)"
      ],
      "execution_count": null,
      "outputs": [
        {
          "output_type": "execute_result",
          "data": {
            "text/html": [
              "<div>\n",
              "<style scoped>\n",
              "    .dataframe tbody tr th:only-of-type {\n",
              "        vertical-align: middle;\n",
              "    }\n",
              "\n",
              "    .dataframe tbody tr th {\n",
              "        vertical-align: top;\n",
              "    }\n",
              "\n",
              "    .dataframe thead th {\n",
              "        text-align: right;\n",
              "    }\n",
              "</style>\n",
              "<table border=\"1\" class=\"dataframe\">\n",
              "  <thead>\n",
              "    <tr style=\"text-align: right;\">\n",
              "      <th></th>\n",
              "      <th>ds</th>\n",
              "    </tr>\n",
              "  </thead>\n",
              "  <tbody>\n",
              "    <tr>\n",
              "      <th>138</th>\n",
              "      <td>2012-09-28</td>\n",
              "    </tr>\n",
              "    <tr>\n",
              "      <th>139</th>\n",
              "      <td>2012-10-05</td>\n",
              "    </tr>\n",
              "    <tr>\n",
              "      <th>140</th>\n",
              "      <td>2012-10-12</td>\n",
              "    </tr>\n",
              "    <tr>\n",
              "      <th>141</th>\n",
              "      <td>2012-10-19</td>\n",
              "    </tr>\n",
              "    <tr>\n",
              "      <th>142</th>\n",
              "      <td>2012-10-26</td>\n",
              "    </tr>\n",
              "    <tr>\n",
              "      <th>143</th>\n",
              "      <td>2012-10-28</td>\n",
              "    </tr>\n",
              "    <tr>\n",
              "      <th>144</th>\n",
              "      <td>2012-11-04</td>\n",
              "    </tr>\n",
              "    <tr>\n",
              "      <th>145</th>\n",
              "      <td>2012-11-11</td>\n",
              "    </tr>\n",
              "    <tr>\n",
              "      <th>146</th>\n",
              "      <td>2012-11-18</td>\n",
              "    </tr>\n",
              "    <tr>\n",
              "      <th>147</th>\n",
              "      <td>2012-11-25</td>\n",
              "    </tr>\n",
              "    <tr>\n",
              "      <th>148</th>\n",
              "      <td>2012-12-02</td>\n",
              "    </tr>\n",
              "  </tbody>\n",
              "</table>\n",
              "</div>"
            ],
            "text/plain": [
              "            ds\n",
              "138 2012-09-28\n",
              "139 2012-10-05\n",
              "140 2012-10-12\n",
              "141 2012-10-19\n",
              "142 2012-10-26\n",
              "143 2012-10-28\n",
              "144 2012-11-04\n",
              "145 2012-11-11\n",
              "146 2012-11-18\n",
              "147 2012-11-25\n",
              "148 2012-12-02"
            ]
          },
          "metadata": {
            "tags": []
          },
          "execution_count": 89
        }
      ]
    },
    {
      "cell_type": "code",
      "metadata": {
        "colab": {
          "base_uri": "https://localhost:8080/",
          "height": 488
        },
        "id": "mxz-a67-cJlV",
        "outputId": "22b0eae4-8abf-4ec5-f993-836bb3f90d68"
      },
      "source": [
        "# Plot\n",
        "fig, axes = plt.subplots(2, 1, figsize=(10,5), dpi=100, sharex=True)\n",
        "\n",
        "# Usual Differencing\n",
        "axes[0].plot(sales_training[:], label='Original Series')\n",
        "axes[0].plot(sales_training[:].diff(1), label='Usual Differencing')\n",
        "axes[0].set_title('Usual Differencing')\n",
        "axes[0].legend(loc='upper left', fontsize=10)\n",
        "\n",
        "\n",
        "# Seasonal Differencing\n",
        "axes[1].plot(sales_training[:], label='Original Series')\n",
        "axes[1].plot(sales_training[:].diff(3), label='Seasonal Differencing', color='green')\n",
        "axes[1].set_title('Seasonal Differencing')\n",
        "plt.legend(loc='upper left', fontsize=10)\n",
        "plt.suptitle('Sales - Time Series Dataset', fontsize=16)\n",
        "plt.show()"
      ],
      "execution_count": null,
      "outputs": [
        {
          "output_type": "display_data",
          "data": {
            "image/png": "[encoded data removed]",
            "text/plain": [
              "<Figure size 1000x500 with 2 Axes>"
            ]
          },
          "metadata": {
            "tags": []
          }
        }
      ]
    }
  ]
}