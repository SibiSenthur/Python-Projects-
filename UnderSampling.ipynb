{
 "cells": [
  {
   "cell_type": "code",
   "execution_count": 1,
   "metadata": {},
   "outputs": [
    {
     "name": "stderr",
     "output_type": "stream",
     "text": [
      "C:\\Users\\sakri18\\Anaconda3\\lib\\site-packages\\sklearn\\cross_validation.py:44: DeprecationWarning: This module was deprecated in version 0.18 in favor of the model_selection module into which all the refactored classes and functions are moved. Also note that the interface of the new CV iterators are different from that of this module. This module will be removed in 0.20.\n",
      "  \"This module will be removed in 0.20.\", DeprecationWarning)\n"
     ]
    }
   ],
   "source": [
    "### Handling Imbalance Classes in Python;\n",
    "### As we understand, credit card fraud detection has unbalanced data set; \n",
    "### having a higher number of non-fraud instances than fraudulent instances\n",
    "\n",
    "### UnderSampling: ---> it means taking the less number of majority class (In our case taking less number of Normal transactions so that our new data will be balanced\n",
    "### OverSampling: ---> it means using replicating the data of minority class (fraud class) so that we can have a balanced data\n",
    "### SMOTE: ---> it is also a type of oversampling but in this we will make the synthetic example of Minority data and will give as a balanced data\n",
    "\n",
    "\n",
    "         ##### First we will start with the Undersampling and will try to classify using these Models\n",
    "\n",
    "## Lets start with importing libraries and data;\n",
    "\n",
    "\n",
    "import pandas as pd # to import csv and for data manipulation\n",
    "import matplotlib.pyplot as plt # to plot graph\n",
    "import seaborn as sns # for intractve graphs\n",
    "import numpy as np # for linear algebra\n",
    "import datetime # to dela with date and time\n",
    "%matplotlib inline\n",
    "from sklearn.preprocessing import StandardScaler # for preprocessing the data\n",
    "from sklearn.ensemble import RandomForestClassifier # Random forest classifier\n",
    "from sklearn.tree import DecisionTreeClassifier # for Decision Tree classifier\n",
    "from sklearn.svm import SVC # for SVM classification\n",
    "from sklearn.linear_model import LogisticRegression\n",
    "from sklearn.cross_validation import train_test_split # to split the data\n",
    "from sklearn.cross_validation import KFold # For cross vbalidation\n",
    "from sklearn.model_selection import GridSearchCV # for tunnig hyper parameter it will use all combination of given parameters\n",
    "from sklearn.model_selection import RandomizedSearchCV # same for tunning hyper parameter but will use random combinations of parameters\n",
    "from sklearn.metrics import confusion_matrix,recall_score,precision_recall_curve,auc,roc_curve,roc_auc_score,classification_report\n",
    "import warnings\n",
    "warnings.filterwarnings('ignore')"
   ]
  },
  {
   "cell_type": "code",
   "execution_count": 5,
   "metadata": {},
   "outputs": [
    {
     "name": "stdout",
     "output_type": "stream",
     "text": [
      "<class 'pandas.core.frame.DataFrame'>\n",
      "RangeIndex: 284807 entries, 0 to 284806\n",
      "Data columns (total 31 columns):\n",
      "Time      284807 non-null float64\n",
      "V1        284807 non-null float64\n",
      "V2        284807 non-null float64\n",
      "V3        284807 non-null float64\n",
      "V4        284807 non-null float64\n",
      "V5        284807 non-null float64\n",
      "V6        284807 non-null float64\n",
      "V7        284807 non-null float64\n",
      "V8        284807 non-null float64\n",
      "V9        284807 non-null float64\n",
      "V10       284807 non-null float64\n",
      "V11       284807 non-null float64\n",
      "V12       284807 non-null float64\n",
      "V13       284807 non-null float64\n",
      "V14       284807 non-null float64\n",
      "V15       284807 non-null float64\n",
      "V16       284807 non-null float64\n",
      "V17       284807 non-null float64\n",
      "V18       284807 non-null float64\n",
      "V19       284807 non-null float64\n",
      "V20       284807 non-null float64\n",
      "V21       284807 non-null float64\n",
      "V22       284807 non-null float64\n",
      "V23       284807 non-null float64\n",
      "V24       284807 non-null float64\n",
      "V25       284807 non-null float64\n",
      "V26       284807 non-null float64\n",
      "V27       284807 non-null float64\n",
      "V28       284807 non-null float64\n",
      "Amount    284807 non-null float64\n",
      "Class     284807 non-null int64\n",
      "dtypes: float64(30), int64(1)\n",
      "memory usage: 67.4 MB\n"
     ]
    }
   ],
   "source": [
    "data=pd.read_csv(\"C:/users/sakri18/Downloads/creditcard.csv\")\n",
    "data.head(10) ## Displaying first 10 rows of the data;\n",
    "## Now, performing the data exploration step;\n",
    "data.info()"
   ]
  },
  {
   "cell_type": "code",
   "execution_count": 6,
   "metadata": {},
   "outputs": [
    {
     "data": {
      "text/plain": [
       "<matplotlib.axes._subplots.AxesSubplot at 0x1aa3bace9e8>"
      ]
     },
     "execution_count": 6,
     "metadata": {},
     "output_type": "execute_result"
    },
    {
     "data": {
      "image/png": "[encoded data removed]",
      "text/plain": [
       "<matplotlib.figure.Figure at 0x1aa3bae1748>"
      ]
     },
     "metadata": {},
     "output_type": "display_data"
    }
   ],
   "source": [
    "##using 'Seaborn' Visualization; \n",
    "sns.countplot(\"Class\",data=data) ##We can  notice the class imbalance here; count (Class '0') >> (Class '1')"
   ]
  },
  {
   "cell_type": "code",
   "execution_count": 12,
   "metadata": {},
   "outputs": [
    {
     "name": "stdout",
     "output_type": "stream",
     "text": [
      "percentage of normal transacation is 99.82725143693798\n",
      "percentage of fraud transacation 0.1727485630620034\n"
     ]
    }
   ],
   "source": [
    "### Now, let us analyze the percentage;\n",
    "Count_Normal_transacation = len(data[data[\"Class\"]==0])\n",
    "Count_Fraud_transacation = len(data[data[\"Class\"]==1])\n",
    "Percentage_of_Normal_transacation = Count_Normal_transacation/(Count_Normal_transacation+Count_Fraud_transacation)\n",
    "print(\"percentage of normal transacation is\",Percentage_of_Normal_transacation*100) ## 99.82%\n",
    "\n",
    "Percentage_of_Fraud_transacation= Count_Fraud_transacation/(Count_Normal_transacation+Count_Fraud_transacation)\n",
    "print(\"percentage of fraud transacation\",Percentage_of_Fraud_transacation*100) ## 0.1727%"
   ]
  },
  {
   "cell_type": "code",
   "execution_count": null,
   "metadata": {
    "collapsed": true
   },
   "outputs": [],
   "source": [
    "### Inferences;\n",
    "## Hence in data there is only 0.17 % are the fraud transcation while 99.83 are valid transcation\n",
    "## So now we have to do resampling of this data\n",
    "## before doing resampling lets have look at the amount related to valid transcation and fraud transcation"
   ]
  },
  {
   "cell_type": "code",
   "execution_count": 13,
   "metadata": {},
   "outputs": [
    {
     "data": {
      "text/plain": [
       "<matplotlib.axes._subplots.AxesSubplot at 0x1aa3c86cf60>"
      ]
     },
     "execution_count": 13,
     "metadata": {},
     "output_type": "execute_result"
    },
    {
     "data": {
      "image/png": "[encoded data removed]",
      "text/plain": [
       "<matplotlib.figure.Figure at 0x1aa3c630550>"
      ]
     },
     "metadata": {},
     "output_type": "display_data"
    }
   ],
   "source": [
    "Fraud_transacation = data[data[\"Class\"]==1] ## Minority Class;\n",
    "Normal_transacation= data[data[\"Class\"]==0]\n",
    "plt.figure(figsize=(10,6))\n",
    "plt.subplot(121)\n",
    "Fraud_transacation.Amount.plot.hist(title=\"Fraud Transacation\")\n",
    "plt.subplot(122)\n",
    "Normal_transacation.Amount.plot.hist(title=\"Normal Transaction\")"
   ]
  },
  {
   "cell_type": "code",
   "execution_count": 14,
   "metadata": {},
   "outputs": [
    {
     "data": {
      "text/plain": [
       "<matplotlib.axes._subplots.AxesSubplot at 0x1aa3c990f60>"
      ]
     },
     "execution_count": 14,
     "metadata": {},
     "output_type": "execute_result"
    },
    {
     "data": {
      "image/png": "[encoded data removed]",
      "text/plain": [
       "<matplotlib.figure.Figure at 0x1aa3fd64630>"
      ]
     },
     "metadata": {},
     "output_type": "display_data"
    }
   ],
   "source": [
    " #the distribution for Normal transction is not clear and it seams that all transaction are less than 2.5 K\n",
    "# So plot graph for same \n",
    "Fraud_transacation = data[data[\"Class\"]==1]\n",
    "Normal_transacation= data[data[\"Class\"]==0]\n",
    "plt.figure(figsize=(10,6))\n",
    "plt.subplot(121)\n",
    "Fraud_transacation[Fraud_transacation[\"Amount\"]<= 2500].Amount.plot.hist(title=\"Fraud Tranascation\")\n",
    "plt.subplot(122)\n",
    "Normal_transacation[Normal_transacation[\"Amount\"]<=2500].Amount.plot.hist(title=\"Normal Transaction\")"
   ]
  },
  {
   "cell_type": "code",
   "execution_count": 27,
   "metadata": {},
   "outputs": [],
   "source": [
    "#  for undersampling we need a portion of majority class and will take whole data of minority class\n",
    "# 'count fraud transaction' is the total number of fraud transaction\n",
    "#  Minority Classes are the Class '1' instances;\n",
    "## Now, lets take the index of the fraudulent classes;\n",
    "\n",
    "fraud_indices=np.array(data[data.Class==1].index)\n",
    "normal_indices=np.array(data[data.Class==0].index)\n",
    "\n",
    "#now let us a define a function for make undersample data with different proportion\n",
    "#different proportion means with different proportion of normal classes of data\n",
    "\n",
    "def undersample(normal_indices,fraud_indices,times):\n",
    "    normal_indices_undersample=np.array(np.random.choice(normal_indices,(times*Count_Fraud_transacation),replace=False))\n",
    "    undersample_data = np.concatenate([fraud_indices,normal_indices_undersample])\n",
    "    undersample_data = data.iloc[undersample_data,:]\n",
    "    #print(\"the normal transacation proportion is :\",len(undersample_data[undersample_data.Class==0])/len(undersample_data[undersample_data.Class]))\n",
    "    #print(\"the fraud transacation proportion is :\",len(undersample_data[undersample_data.Class==1])/len(undersample_data[undersample_data.Class]))\n",
    "    #print(\"total number of record in resampled data is:\",len(undersample_data[undersample_data.Class]))\n",
    "    return(undersample_data)"
   ]
  },
  {
   "cell_type": "code",
   "execution_count": 20,
   "metadata": {
    "collapsed": true
   },
   "outputs": [],
   "source": [
    "## first make a model function for modeling with confusion matrix\n",
    "def model(model,features_train,features_test,labels_train,labels_test):\n",
    "    clf= model\n",
    "    clf.fit(features_train,labels_train.values.ravel())\n",
    "    pred=clf.predict(features_test)\n",
    "    cnf_matrix=confusion_matrix(labels_test,pred)\n",
    "    print(\"the recall for this model is :\",cnf_matrix[1,1]/(cnf_matrix[1,1]+cnf_matrix[1,0]))\n",
    "    fig= plt.figure(figsize=(6,3))# to plot the graph\n",
    "    print(\"TP\",cnf_matrix[1,1,]) # no of fraud transaction which are predicted fraud\n",
    "    print(\"TN\",cnf_matrix[0,0]) # no. of normal transaction which are predited normal\n",
    "    print(\"FP\",cnf_matrix[0,1]) # no of normal transaction which are predicted fraud\n",
    "    print(\"FN\",cnf_matrix[1,0]) # no of fraud Transaction which are predicted normal\n",
    "    sns.heatmap(cnf_matrix,cmap=\"coolwarm_r\",annot=True,linewidths=0.5)\n",
    "    plt.title(\"Confusion_matrix\")\n",
    "    plt.xlabel(\"Predicted_class\")\n",
    "    plt.ylabel(\"Real class\")\n",
    "    plt.show()\n",
    "    print(\"\\n----------Classification Report------------------------------------\")\n",
    "    print(classification_report(labels_test,pred))"
   ]
  },
  {
   "cell_type": "code",
   "execution_count": 21,
   "metadata": {
    "collapsed": true
   },
   "outputs": [],
   "source": [
    "def data_prepration(x): # preparing data for training and testing as we are going to use different data \n",
    "    #again and again so make a function\n",
    "    x_features= x.ix[:,x.columns != \"Class\"]\n",
    "    x_labels=x.ix[:,x.columns==\"Class\"]\n",
    "    x_features_train,x_features_test,x_labels_train,x_labels_test = train_test_split(x_features,x_labels,test_size=0.3)\n",
    "    print(\"length of training data\")\n",
    "    print(len(x_features_train))\n",
    "    print(\"length of test data\")\n",
    "    print(len(x_features_test))\n",
    "    return(x_features_train,x_features_test,x_labels_train,x_labels_test)"
   ]
  },
  {
   "cell_type": "code",
   "execution_count": null,
   "metadata": {
    "collapsed": true
   },
   "outputs": [],
   "source": [
    "# before starting we should standridze our ampount column\n",
    "data[\"Normalized Amount\"] = StandardScaler().fit_transform(data['Amount'].reshape(-1, 1))\n",
    "data.drop([\"Time\",\"Amount\"],axis=1,inplace=True)\n",
    "data.head()"
   ]
  },
  {
   "cell_type": "code",
   "execution_count": 28,
   "metadata": {},
   "outputs": [
    {
     "name": "stdout",
     "output_type": "stream",
     "text": [
      "the undersample data for 1 proportion\n",
      "\n",
      "------------------------------------------------------------\n",
      "\n",
      "the model classification for 1 proportion\n",
      "\n",
      "length of training data\n",
      "688\n",
      "length of test data\n",
      "296\n",
      "\n",
      "the recall for this model is : 0.923076923077\n",
      "TP 132\n",
      "TN 151\n",
      "FP 2\n",
      "FN 11\n"
     ]
    },
    {
     "data": {
      "image/png": "[encoded data removed]",
      "text/plain": [
       "<matplotlib.figure.Figure at 0x1aa40111898>"
      ]
     },
     "metadata": {},
     "output_type": "display_data"
    },
    {
     "name": "stdout",
     "output_type": "stream",
     "text": [
      "\n",
      "----------Classification Report------------------------------------\n",
      "             precision    recall  f1-score   support\n",
      "\n",
      "          0       0.93      0.99      0.96       153\n",
      "          1       0.99      0.92      0.95       143\n",
      "\n",
      "avg / total       0.96      0.96      0.96       296\n",
      "\n",
      "________________________________________________________________________________________________________\n",
      "the undersample data for 2 proportion\n",
      "\n",
      "------------------------------------------------------------\n",
      "\n",
      "the model classification for 2 proportion\n",
      "\n",
      "length of training data\n",
      "1033\n",
      "length of test data\n",
      "443\n",
      "\n",
      "the recall for this model is : 0.81884057971\n",
      "TP 113\n",
      "TN 300\n",
      "FP 5\n",
      "FN 25\n"
     ]
    },
    {
     "data": {
      "image/png": "[encoded data removed]",
      "text/plain": [
       "<matplotlib.figure.Figure at 0x1aa3da7bb70>"
      ]
     },
     "metadata": {},
     "output_type": "display_data"
    },
    {
     "name": "stdout",
     "output_type": "stream",
     "text": [
      "\n",
      "----------Classification Report------------------------------------\n",
      "             precision    recall  f1-score   support\n",
      "\n",
      "          0       0.92      0.98      0.95       305\n",
      "          1       0.96      0.82      0.88       138\n",
      "\n",
      "avg / total       0.93      0.93      0.93       443\n",
      "\n",
      "________________________________________________________________________________________________________\n",
      "the undersample data for 3 proportion\n",
      "\n",
      "------------------------------------------------------------\n",
      "\n",
      "the model classification for 3 proportion\n",
      "\n",
      "length of training data\n",
      "1377\n",
      "length of test data\n",
      "591\n",
      "\n",
      "the recall for this model is : 0.807142857143\n",
      "TP 113\n",
      "TN 448\n",
      "FP 3\n",
      "FN 27\n"
     ]
    },
    {
     "data": {
      "image/png": "[encoded data removed]",
      "text/plain": [
       "<matplotlib.figure.Figure at 0x1aa3daa17b8>"
      ]
     },
     "metadata": {},
     "output_type": "display_data"
    },
    {
     "name": "stdout",
     "output_type": "stream",
     "text": [
      "\n",
      "----------Classification Report------------------------------------\n",
      "             precision    recall  f1-score   support\n",
      "\n",
      "          0       0.94      0.99      0.97       451\n",
      "          1       0.97      0.81      0.88       140\n",
      "\n",
      "avg / total       0.95      0.95      0.95       591\n",
      "\n",
      "________________________________________________________________________________________________________\n"
     ]
    }
   ],
   "source": [
    "## Logistic Regression with undersampled data;\n",
    "for i in range(1,4):\n",
    "    print(\"the undersample data for {} proportion\".format(i))\n",
    "    print()\n",
    "    Undersample_data = undersample(normal_indices,fraud_indices,i)\n",
    "    print(\"------------------------------------------------------------\")\n",
    "    print()\n",
    "    print(\"the model classification for {} proportion\".format(i))\n",
    "    print()\n",
    "    undersample_features_train,undersample_features_test,undersample_labels_train,undersample_labels_test=data_prepration(Undersample_data)\n",
    "    print()\n",
    "    clf=LogisticRegression()\n",
    "    model(clf,undersample_features_train,undersample_features_test,undersample_labels_train,undersample_labels_test)\n",
    "    print(\"________________________________________________________________________________________________________\")"
   ]
  },
  {
   "cell_type": "code",
   "execution_count": 29,
   "metadata": {},
   "outputs": [
    {
     "name": "stdout",
     "output_type": "stream",
     "text": [
      "the undersample data for 1 proportion\n",
      "\n",
      "------------------------------------------------------------\n",
      "\n",
      "the model classification for 1 proportion\n",
      "\n",
      "length of training data\n",
      "688\n",
      "length of test data\n",
      "296\n",
      "length of training data\n",
      "199364\n",
      "length of test data\n",
      "85443\n",
      "\n",
      "the recall for this model is : 0.922580645161\n",
      "TP 143\n",
      "TN 82326\n",
      "FP 2962\n",
      "FN 12\n"
     ]
    },
    {
     "data": {
      "image/png": "[encoded data removed]",
      "text/plain": [
       "<matplotlib.figure.Figure at 0x1aa3e335860>"
      ]
     },
     "metadata": {},
     "output_type": "display_data"
    },
    {
     "name": "stdout",
     "output_type": "stream",
     "text": [
      "\n",
      "----------Classification Report------------------------------------\n",
      "             precision    recall  f1-score   support\n",
      "\n",
      "          0       1.00      0.97      0.98     85288\n",
      "          1       0.05      0.92      0.09       155\n",
      "\n",
      "avg / total       1.00      0.97      0.98     85443\n",
      "\n",
      "_________________________________________________________________________________________\n",
      "the undersample data for 2 proportion\n",
      "\n",
      "------------------------------------------------------------\n",
      "\n",
      "the model classification for 2 proportion\n",
      "\n",
      "length of training data\n",
      "1033\n",
      "length of test data\n",
      "443\n",
      "length of training data\n",
      "199364\n",
      "length of test data\n",
      "85443\n",
      "\n",
      "the recall for this model is : 0.855072463768\n",
      "TP 118\n",
      "TN 84756\n",
      "FP 549\n",
      "FN 20\n"
     ]
    },
    {
     "data": {
      "image/png": "[encoded data removed]",
      "text/plain": [
       "<matplotlib.figure.Figure at 0x1aa3e2907f0>"
      ]
     },
     "metadata": {},
     "output_type": "display_data"
    },
    {
     "name": "stdout",
     "output_type": "stream",
     "text": [
      "\n",
      "----------Classification Report------------------------------------\n",
      "             precision    recall  f1-score   support\n",
      "\n",
      "          0       1.00      0.99      1.00     85305\n",
      "          1       0.18      0.86      0.29       138\n",
      "\n",
      "avg / total       1.00      0.99      1.00     85443\n",
      "\n",
      "_________________________________________________________________________________________\n",
      "the undersample data for 3 proportion\n",
      "\n",
      "------------------------------------------------------------\n",
      "\n",
      "the model classification for 3 proportion\n",
      "\n",
      "length of training data\n",
      "1377\n",
      "length of test data\n",
      "591\n",
      "length of training data\n",
      "199364\n",
      "length of test data\n",
      "85443\n",
      "\n",
      "the recall for this model is : 0.818181818182\n",
      "TP 117\n",
      "TN 84657\n",
      "FP 643\n",
      "FN 26\n"
     ]
    },
    {
     "data": {
      "image/png": "[encoded data removed]",
      "text/plain": [
       "<matplotlib.figure.Figure at 0x1aa3f580160>"
      ]
     },
     "metadata": {},
     "output_type": "display_data"
    },
    {
     "name": "stdout",
     "output_type": "stream",
     "text": [
      "\n",
      "----------Classification Report------------------------------------\n",
      "             precision    recall  f1-score   support\n",
      "\n",
      "          0       1.00      0.99      1.00     85300\n",
      "          1       0.15      0.82      0.26       143\n",
      "\n",
      "avg / total       1.00      0.99      0.99     85443\n",
      "\n",
      "_________________________________________________________________________________________\n"
     ]
    }
   ],
   "source": [
    "#let us train this model using undersample data and test for the whole data test set \n",
    "for i in range(1,4):\n",
    "    print(\"the undersample data for {} proportion\".format(i))\n",
    "    print()\n",
    "    Undersample_data = undersample(normal_indices,fraud_indices,i)\n",
    "    print(\"------------------------------------------------------------\")\n",
    "    print()\n",
    "    print(\"the model classification for {} proportion\".format(i))\n",
    "    print()\n",
    "    undersample_features_train,undersample_features_test,undersample_labels_train,undersample_labels_test=data_prepration(Undersample_data)\n",
    "    data_features_train,data_features_test,data_labels_train,data_labels_test=data_prepration(data) \n",
    "    #the partion for whole data\n",
    "    print()\n",
    "    clf=LogisticRegression()\n",
    "    model(clf,undersample_features_train,data_features_test,undersample_labels_train,data_labels_test)\n",
    "    # here training for the undersample data but tatsing for whole data\n",
    "    print(\"_________________________________________________________________________________________\")\n",
    "    "
   ]
  },
  {
   "cell_type": "code",
   "execution_count": 31,
   "metadata": {},
   "outputs": [
    {
     "name": "stdout",
     "output_type": "stream",
     "text": [
      "the undersample data for 1 proportion\n",
      "\n",
      "------------------------------------------------------------\n",
      "\n",
      "the model classification for 1 proportion\n",
      "\n",
      "length of training data\n",
      "688\n",
      "length of test data\n",
      "296\n",
      "\n",
      "the recall for this model is : 0.075\n",
      "TP 12\n",
      "TN 136\n",
      "FP 0\n",
      "FN 148\n"
     ]
    },
    {
     "data": {
      "image/png": "[encoded data removed]",
      "text/plain": [
       "<matplotlib.figure.Figure at 0x1aa3e28ab70>"
      ]
     },
     "metadata": {},
     "output_type": "display_data"
    },
    {
     "name": "stdout",
     "output_type": "stream",
     "text": [
      "\n",
      "----------Classification Report------------------------------------\n",
      "             precision    recall  f1-score   support\n",
      "\n",
      "          0       0.48      1.00      0.65       136\n",
      "          1       1.00      0.07      0.14       160\n",
      "\n",
      "avg / total       0.76      0.50      0.37       296\n",
      "\n",
      "________________________________________________________________________________________________________\n",
      "the undersample data for 2 proportion\n",
      "\n",
      "------------------------------------------------------------\n",
      "\n",
      "the model classification for 2 proportion\n",
      "\n",
      "length of training data\n",
      "1033\n",
      "length of test data\n",
      "443\n",
      "\n",
      "the recall for this model is : 0.05\n",
      "TP 7\n",
      "TN 303\n",
      "FP 0\n",
      "FN 133\n"
     ]
    },
    {
     "data": {
      "image/png": "[encoded data removed]",
      "text/plain": [
       "<matplotlib.figure.Figure at 0x1aa3db73c18>"
      ]
     },
     "metadata": {},
     "output_type": "display_data"
    },
    {
     "name": "stdout",
     "output_type": "stream",
     "text": [
      "\n",
      "----------Classification Report------------------------------------\n",
      "             precision    recall  f1-score   support\n",
      "\n",
      "          0       0.69      1.00      0.82       303\n",
      "          1       1.00      0.05      0.10       140\n",
      "\n",
      "avg / total       0.79      0.70      0.59       443\n",
      "\n",
      "________________________________________________________________________________________________________\n",
      "the undersample data for 3 proportion\n",
      "\n",
      "------------------------------------------------------------\n",
      "\n",
      "the model classification for 3 proportion\n",
      "\n",
      "length of training data\n",
      "1377\n",
      "length of test data\n",
      "591\n",
      "\n",
      "the recall for this model is : 0.0709219858156\n",
      "TP 10\n",
      "TN 450\n",
      "FP 0\n",
      "FN 131\n"
     ]
    },
    {
     "data": {
      "image/png": "[encoded data removed]",
      "text/plain": [
       "<matplotlib.figure.Figure at 0x1aa3e42a0f0>"
      ]
     },
     "metadata": {},
     "output_type": "display_data"
    },
    {
     "name": "stdout",
     "output_type": "stream",
     "text": [
      "\n",
      "----------Classification Report------------------------------------\n",
      "             precision    recall  f1-score   support\n",
      "\n",
      "          0       0.77      1.00      0.87       450\n",
      "          1       1.00      0.07      0.13       141\n",
      "\n",
      "avg / total       0.83      0.78      0.70       591\n",
      "\n",
      "________________________________________________________________________________________________________\n"
     ]
    }
   ],
   "source": [
    "## Now, SVM with undersampled data;\n",
    "for i in range(1,4):\n",
    "    print(\"the undersample data for {} proportion\".format(i))\n",
    "    print()\n",
    "    Undersample_data = undersample(normal_indices,fraud_indices,i)\n",
    "    print(\"------------------------------------------------------------\")\n",
    "    print()\n",
    "    print(\"the model classification for {} proportion\".format(i))\n",
    "    print()\n",
    "    undersample_features_train,undersample_features_test,undersample_labels_train,undersample_labels_test=data_prepration(Undersample_data)\n",
    "    print()\n",
    "    clf= SVC()# here we are just changing classifier\n",
    "    model(clf,undersample_features_train,undersample_features_test,undersample_labels_train,undersample_labels_test)\n",
    "    print(\"________________________________________________________________________________________________________\")"
   ]
  }
 ],
 "metadata": {
  "kernelspec": {
   "display_name": "Python 3",
   "language": "python",
   "name": "python3"
  },
  "language_info": {
   "codemirror_mode": {
    "name": "ipython",
    "version": 3
   },
   "file_extension": ".py",
   "mimetype": "text/x-python",
   "name": "python",
   "nbconvert_exporter": "python",
   "pygments_lexer": "ipython3",
   "version": "3.6.1"
  }
 },
 "nbformat": 4,
 "nbformat_minor": 2
}
