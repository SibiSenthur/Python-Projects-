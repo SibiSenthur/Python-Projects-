{
  "nbformat": 4,
  "nbformat_minor": 0,
  "metadata": {
    "colab": {
      "name": "AB Testing - Sample Size Estimation.ipynb",
      "provenance": [],
      "authorship_tag": "ABX9TyMPCB27A6LMLV1fcwcgwke5",
      "include_colab_link": true
    },
    "kernelspec": {
      "name": "python3",
      "display_name": "Python 3"
    },
    "language_info": {
      "name": "python"
    }
  },
  "cells": [
    {
      "cell_type": "markdown",
      "metadata": {
        "id": "view-in-github",
        "colab_type": "text"
      },
      "source": [
        "<a href=\"https://colab.research.google.com/github/SibiSenthur/Python-Projects-/blob/master/AB_Testing_Sample_Size_Estimation.ipynb\" target=\"_parent\"><img src=\"https://colab.research.google.com/assets/colab-badge.svg\" alt=\"Open In Colab\"/></a>"
      ]
    },
    {
      "cell_type": "code",
      "metadata": {
        "colab": {
          "base_uri": "https://localhost:8080/"
        },
        "id": "syBhDNY23klO",
        "outputId": "f6699c1d-8ac7-4730-856f-d14a1d2e6db8"
      },
      "source": [
        "import statsmodels.stats.api as sms\n",
        "#Firstly, we need to define the two conversion rates via proportion_effectsize. \n",
        "#The first element here (0.1) is simply the conversion rate of the site prior to running the test. Aka control conversion rate\n",
        "#The second one (0.11) is the minimum conversion rate of the test that would make it worth it to make the change\n",
        "p1_and_p2 = sms.proportion_effectsize(0.1, 0.11)\n",
        "#Now we can run the function that after passing the two conversion rates above + power and significance, returns sample size\n",
        "sample_size = sms.NormalIndPower().solve_power(p1_and_p2, power=0.8, alpha=0.05)\n",
        "print(\"The required sample size per group is ~\", round(sample_size))"
      ],
      "execution_count": 9,
      "outputs": [
        {
          "output_type": "stream",
          "text": [
            "The required sample size per group is ~ 14744\n"
          ],
          "name": "stdout"
        }
      ]
    },
    {
      "cell_type": "code",
      "metadata": {
        "colab": {
          "base_uri": "https://localhost:8080/",
          "height": 312
        },
        "id": "9FCR4C_Q5mqq",
        "outputId": "161252ec-8fcb-449e-fb7b-aede96472955"
      },
      "source": [
        "## Sample size estimation;\n",
        "import numpy as np\n",
        "import matplotlib.pyplot as plt\n",
        "possible_p2 = np.arange(.105, .155, .005)\n",
        "print(possible_p2)\n",
        "sample_size = []\n",
        "\n",
        "for i in possible_p2:\n",
        "  p1_and_p2 = sms.proportion_effectsize(0.1, i)\n",
        "  sample_size.append(sms.NormalIndPower().solve_power(p1_and_p2, power=0.8, alpha=0.05))\n",
        "\n",
        "plt.plot(sample_size, possible_p2)\n",
        "plt.title(\"Sample size vs Minimum Effect size\")\n",
        "plt.xlabel(\"Sample Size\")\n",
        "plt.ylabel(\"Minimum Test Conversion rate\")\n",
        "plt.show()"
      ],
      "execution_count": 8,
      "outputs": [
        {
          "output_type": "stream",
          "text": [
            "[0.105 0.11  0.115 0.12  0.125 0.13  0.135 0.14  0.145 0.15 ]\n"
          ],
          "name": "stdout"
        },
        {
          "output_type": "display_data",
          "data": {
            "image/png": "[encoded data removed]",
            "text/plain": [
              "<Figure size 432x288 with 1 Axes>"
            ]
          },
          "metadata": {
            "tags": [],
            "needs_background": "light"
          }
        }
      ]
    }
  ]
}